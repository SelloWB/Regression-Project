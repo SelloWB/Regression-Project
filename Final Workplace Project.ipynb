{
 "cells": [
  {
   "cell_type": "markdown",
   "metadata": {},
   "source": [
    "\n",
    "<font color='Green'> <b> QCTO - Workplace Module</b></font>\n",
    "\n",
    "\n",
    "<div style=\"color:White;\n",
    "            display:fill;\n",
    "            border-radius:10px;\n",
    "            background-color:#063d45;\n",
    "            font-size:100%;\n",
    "            font-family:Verdana;\n",
    "            letter-spacing:1px\">\n",
    "    <h1 style='padding: 30px;\n",
    "              color:White;\n",
    "              text-align:center;'>\n",
    "        Project Title: AVOCADO PRICES AND VOLUMES OVER THE PERIOD OF 8 YEARS IN USA\n",
    "    </h1>\n",
    "    </div>\n",
    "\n",
    "#### Done By: Sello Mahlangu\n",
    "\n",
    "© ExploreAI 2024\n",
    "\n",
    "---\n",
    "\n",
    "## Table of Contents\n",
    "\n",
    "<a href=#BC> Background Context</a>\n",
    "\n",
    "<a href=#one>1. Importing Packages</a>\n",
    "\n",
    "<a href=#two>2. Data Collection and Description</a>\n",
    "\n",
    "<a href=#three>3. Loading Data </a>\n",
    "\n",
    "<a href=#four>4. Data Cleaning and Filtering</a>\n",
    "\n",
    "<a href=#five>5. Exploratory Data Analysis (EDA)</a>\n",
    "\n",
    "<a href=#six>6. Modeling </a>\n",
    "\n",
    "<a href=#seven>7. Evaluation and Validation</a>\n",
    "\n",
    "<a href=#eight>8. Final Model</a>\n",
    "\n",
    "<a href=#nine>9. Conclusion and Future Work</a>\n",
    "\n",
    "<a href=#ten>10. References</a>"
   ]
  },
  {
   "cell_type": "markdown",
   "metadata": {},
   "source": [
    "---\n",
    " <a id=\"BC\"></a>\n",
    "## **Background Context**\n",
    "<a href=#cont>Back to Table of Contents</a>\n",
    "\n",
    "* **Purpose:** The United States is the second largest producer of avocados after Mexico. About 90% of avocado production in the United States takes place in California by more than 5,000 growers. The average grove size in California is about 13 acres. One avocado tree can produce from 200 to 500 avocados per year. About 400 million pounds of avocados are harvested each year in California alone. Florida and Hawaii produce most of the remaining 10% of avocados produced in the United States. \n",
    "    \n",
    "    The primary objective of this project is to analyze the patterns, trends, and factors influencing Avocado prices in USA. \n",
    "    \n",
    "    The analysis will cover key aspects such as Average prices, Total volumes between 2015 and 2023.For our analysis of Average prices across USA, we will employ statistical techniques in section 5 Explority Data Analysis (EDA). \n",
    "    \n",
    "    The notebook is structured to guide readers through a comprehensive data analysis project. It begins with a Project Overview, which includes an Introduction outlining the context and a Problem Statement to define the issue at hand, followed by the Objectives of the analysis. Next, the Importing Packages section lists the necessary libraries. Loading Data details the process of importing datasets. Data Cleaning addresses how the data is prepared for analysis. The Exploratory Data Analysis (EDA) section provides insights into the data through visualizations.\n",
    "    \n",
    "    Through this project, we hope to provide a detailed understanding of the current state of Avocado prices in USA, identify challenges and opportunities, and propose actionable recommendations to enhance the efficiency and sustainability of Avocado market. Ultimately, our oal is to support the development of a more resilient and prosperous Avocado market in USA.\n"
   ]
  },
  {
   "cell_type": "markdown",
   "metadata": {},
   "source": [
    "---\n",
    "<a href=#one></a>\n",
    "## **Importing Packages**\n",
    "<a href=#cont>Back to Table of Contents</a>\n",
    "\n",
    "* **Purpose:** Set up the Python environment with necessary libraries and tools.\n",
    "* **Details:** List and import all the Python packages that will be used throughout the project such as Pandas for data manipulation, Matplotlib/Seaborn for visualization, scikit-learn for modeling, etc.\n",
    "---"
   ]
  },
  {
   "cell_type": "code",
   "execution_count": 1,
   "metadata": {},
   "outputs": [],
   "source": [
    "#importing necessary libraries\n",
    "\n",
    "import numpy as np\n",
    "import matplotlib.pyplot as plt\n",
    "import pandas as pd\n",
    "\n",
    "import csv\n",
    "import seaborn as sns\n",
    "\n",
    "from sklearn.model_selection import train_test_split\n",
    "from sklearn.preprocessing import StandardScaler\n",
    "\n",
    "from sklearn.linear_model import LinearRegression\n",
    "from sklearn.metrics import mean_squared_error"
   ]
  },
  {
   "cell_type": "markdown",
   "metadata": {},
   "source": [
    "---\n",
    "<a href=#two></a>\n",
    "## **Data Collection and Description**\n",
    "<a href=#cont>Back to Table of Contents</a>\n",
    "\n",
    "## The dataset\n",
    "\n",
    "For this Project, we make use of the `Crop Prices` dataset.\n",
    "\n",
    "The following are the descriptions of the columns in our dataset: \n",
    "\n",
    "* `Date`: Last day of the week.\n",
    "* `AveragePrice`: Average Selling price.\n",
    "* `TotalVolume`: Total Volume by weight in pounds.\n",
    "* `plu4046`: small/medium Hass Avocados (~3-5 oz).\n",
    "* `plu4225`: large Hass Avocados (~8-10 oz).\n",
    "* `plu4770`: extra large Hass Avocados (~10-15 oz).\n",
    "* `TotalBags`: the bags indicate a pre-packaged container consisting of a variable number of avocados of mixed PLU type\n",
    "* `SmallBags`: Small bags consisting of a variable number of avocados.\n",
    "* `LargeBags`: Large bags consisting of a variable number of avocados.\n",
    "* `XLargeBags`: Extra large bags consiting of a variable number of avocados.\n",
    "* `type`: types of avocado .\n",
    "* `Region`: Region where avocados are sold.\n",
    "\n",
    "## Source of data  \n",
    " * kaggle/input/avocado-prices-and-sales-volume-2015-2023/Avocado_HassAvocadoBoard_20152023"
   ]
  },
  {
   "cell_type": "markdown",
   "metadata": {},
   "source": [
    "---\n",
    "<a href=#three></a>\n",
    "## **Loading Data**\n",
    "<a href=#cont>Back to Table of Contents</a>\n",
    "\n",
    "* **Purpose:** Load the data into the notebook for manipulation and analysis.\n",
    "* **Details:** Show the code used to load the data and display the first few rows to give a sense of what the raw data looks like.\n",
    "---"
   ]
  },
  {
   "cell_type": "code",
   "execution_count": 2,
   "metadata": {},
   "outputs": [
    {
     "data": {
      "text/html": [
       "<div>\n",
       "<style scoped>\n",
       "    .dataframe tbody tr th:only-of-type {\n",
       "        vertical-align: middle;\n",
       "    }\n",
       "\n",
       "    .dataframe tbody tr th {\n",
       "        vertical-align: top;\n",
       "    }\n",
       "\n",
       "    .dataframe thead th {\n",
       "        text-align: right;\n",
       "    }\n",
       "</style>\n",
       "<table border=\"1\" class=\"dataframe\">\n",
       "  <thead>\n",
       "    <tr style=\"text-align: right;\">\n",
       "      <th></th>\n",
       "      <th>Date</th>\n",
       "      <th>AveragePrice</th>\n",
       "      <th>TotalVolume</th>\n",
       "      <th>plu4046</th>\n",
       "      <th>plu4225</th>\n",
       "      <th>plu4770</th>\n",
       "      <th>TotalBags</th>\n",
       "      <th>SmallBags</th>\n",
       "      <th>LargeBags</th>\n",
       "      <th>XLargeBags</th>\n",
       "      <th>type</th>\n",
       "      <th>region</th>\n",
       "    </tr>\n",
       "  </thead>\n",
       "  <tbody>\n",
       "    <tr>\n",
       "      <th>0</th>\n",
       "      <td>2015-01-04</td>\n",
       "      <td>1.22</td>\n",
       "      <td>40873.28</td>\n",
       "      <td>2819.50</td>\n",
       "      <td>28287.42</td>\n",
       "      <td>49.90</td>\n",
       "      <td>9716.46</td>\n",
       "      <td>9186.93</td>\n",
       "      <td>529.53</td>\n",
       "      <td>0.0</td>\n",
       "      <td>conventional</td>\n",
       "      <td>Albany</td>\n",
       "    </tr>\n",
       "    <tr>\n",
       "      <th>1</th>\n",
       "      <td>2015-01-04</td>\n",
       "      <td>1.79</td>\n",
       "      <td>1373.95</td>\n",
       "      <td>57.42</td>\n",
       "      <td>153.88</td>\n",
       "      <td>0.00</td>\n",
       "      <td>1162.65</td>\n",
       "      <td>1162.65</td>\n",
       "      <td>0.00</td>\n",
       "      <td>0.0</td>\n",
       "      <td>organic</td>\n",
       "      <td>Albany</td>\n",
       "    </tr>\n",
       "    <tr>\n",
       "      <th>2</th>\n",
       "      <td>2015-01-04</td>\n",
       "      <td>1.00</td>\n",
       "      <td>435021.49</td>\n",
       "      <td>364302.39</td>\n",
       "      <td>23821.16</td>\n",
       "      <td>82.15</td>\n",
       "      <td>46815.79</td>\n",
       "      <td>16707.15</td>\n",
       "      <td>30108.64</td>\n",
       "      <td>0.0</td>\n",
       "      <td>conventional</td>\n",
       "      <td>Atlanta</td>\n",
       "    </tr>\n",
       "    <tr>\n",
       "      <th>3</th>\n",
       "      <td>2015-01-04</td>\n",
       "      <td>1.76</td>\n",
       "      <td>3846.69</td>\n",
       "      <td>1500.15</td>\n",
       "      <td>938.35</td>\n",
       "      <td>0.00</td>\n",
       "      <td>1408.19</td>\n",
       "      <td>1071.35</td>\n",
       "      <td>336.84</td>\n",
       "      <td>0.0</td>\n",
       "      <td>organic</td>\n",
       "      <td>Atlanta</td>\n",
       "    </tr>\n",
       "    <tr>\n",
       "      <th>4</th>\n",
       "      <td>2015-01-04</td>\n",
       "      <td>1.08</td>\n",
       "      <td>788025.06</td>\n",
       "      <td>53987.31</td>\n",
       "      <td>552906.04</td>\n",
       "      <td>39995.03</td>\n",
       "      <td>141136.68</td>\n",
       "      <td>137146.07</td>\n",
       "      <td>3990.61</td>\n",
       "      <td>0.0</td>\n",
       "      <td>conventional</td>\n",
       "      <td>BaltimoreWashington</td>\n",
       "    </tr>\n",
       "  </tbody>\n",
       "</table>\n",
       "</div>"
      ],
      "text/plain": [
       "         Date  AveragePrice  TotalVolume    plu4046    plu4225   plu4770  \\\n",
       "0  2015-01-04          1.22     40873.28    2819.50   28287.42     49.90   \n",
       "1  2015-01-04          1.79      1373.95      57.42     153.88      0.00   \n",
       "2  2015-01-04          1.00    435021.49  364302.39   23821.16     82.15   \n",
       "3  2015-01-04          1.76      3846.69    1500.15     938.35      0.00   \n",
       "4  2015-01-04          1.08    788025.06   53987.31  552906.04  39995.03   \n",
       "\n",
       "   TotalBags  SmallBags  LargeBags  XLargeBags          type  \\\n",
       "0    9716.46    9186.93     529.53         0.0  conventional   \n",
       "1    1162.65    1162.65       0.00         0.0       organic   \n",
       "2   46815.79   16707.15   30108.64         0.0  conventional   \n",
       "3    1408.19    1071.35     336.84         0.0       organic   \n",
       "4  141136.68  137146.07    3990.61         0.0  conventional   \n",
       "\n",
       "                region  \n",
       "0               Albany  \n",
       "1               Albany  \n",
       "2              Atlanta  \n",
       "3              Atlanta  \n",
       "4  BaltimoreWashington  "
      ]
     },
     "execution_count": 2,
     "metadata": {},
     "output_type": "execute_result"
    }
   ],
   "source": [
    "# loading dataset\n",
    "df = pd.read_csv(\"Avocado_HassAvocadoBoard_20152023v1.0.1.csv\", index_col=False)\n",
    "df.head() "
   ]
  },
  {
   "cell_type": "markdown",
   "metadata": {},
   "source": [
    "---\n",
    "<a href=#four></a>\n",
    "## **Data Cleaning and Filtering**\n",
    "<a href=#cont>Back to Table of Contents</a>\n",
    "\n",
    "* **Purpose:** Prepare the data for analysis by cleaning and filtering.\n",
    "* **Details:** Include steps for handling missing values, removing outliers, correcting errors, and possibly reducing the data (filtering based on certain criteria or features).\n",
    "---"
   ]
  },
  {
   "cell_type": "code",
   "execution_count": 3,
   "metadata": {},
   "outputs": [
    {
     "name": "stdout",
     "output_type": "stream",
     "text": [
      "First few rows of the dataset:\n",
      "         Date  AveragePrice  TotalVolume    plu4046    plu4225   plu4770  \\\n",
      "0  2015-01-04          1.22     40873.28    2819.50   28287.42     49.90   \n",
      "1  2015-01-04          1.79      1373.95      57.42     153.88      0.00   \n",
      "2  2015-01-04          1.00    435021.49  364302.39   23821.16     82.15   \n",
      "3  2015-01-04          1.76      3846.69    1500.15     938.35      0.00   \n",
      "4  2015-01-04          1.08    788025.06   53987.31  552906.04  39995.03   \n",
      "\n",
      "   TotalBags  SmallBags  LargeBags  XLargeBags          type  \\\n",
      "0    9716.46    9186.93     529.53         0.0  conventional   \n",
      "1    1162.65    1162.65       0.00         0.0       organic   \n",
      "2   46815.79   16707.15   30108.64         0.0  conventional   \n",
      "3    1408.19    1071.35     336.84         0.0       organic   \n",
      "4  141136.68  137146.07    3990.61         0.0  conventional   \n",
      "\n",
      "                region  \n",
      "0               Albany  \n",
      "1               Albany  \n",
      "2              Atlanta  \n",
      "3              Atlanta  \n",
      "4  BaltimoreWashington  \n",
      "\n",
      "Summary statistics of the dataset:\n",
      "       AveragePrice   TotalVolume       plu4046       plu4225       plu4770  \\\n",
      "count  53415.000000  5.341500e+04  5.341500e+04  5.341500e+04  5.341500e+04   \n",
      "mean       1.428910  8.694474e+05  2.982707e+05  2.222170e+05  2.053195e+04   \n",
      "std        0.393116  3.545274e+06  1.307669e+06  9.554624e+05  1.040977e+05   \n",
      "min        0.440000  8.456000e+01  0.000000e+00  0.000000e+00  0.000000e+00   \n",
      "25%        1.119091  1.626465e+04  6.947250e+02  2.120800e+03  0.000000e+00   \n",
      "50%        1.400000  1.203525e+05  1.458058e+04  1.751663e+04  9.005000e+01   \n",
      "75%        1.690000  4.542380e+05  1.287924e+05  9.351560e+04  3.599735e+03   \n",
      "max        3.440830  6.103446e+07  2.544720e+07  2.047057e+07  2.860025e+06   \n",
      "\n",
      "          TotalBags     SmallBags     LargeBags     XLargeBags  \n",
      "count  5.341500e+04  4.102500e+04  4.102500e+04   41025.000000  \n",
      "mean   2.175083e+05  1.039222e+05  2.331316e+04    2731.811796  \n",
      "std    8.676947e+05  5.692608e+05  1.496622e+05   22589.096454  \n",
      "min    0.000000e+00  0.000000e+00  0.000000e+00       0.000000  \n",
      "25%    7.846520e+03  0.000000e+00  0.000000e+00       0.000000  \n",
      "50%    3.695310e+04  6.945800e+02  0.000000e+00       0.000000  \n",
      "75%    1.110146e+05  3.795298e+04  2.814920e+03       0.000000  \n",
      "max    1.629830e+07  1.256716e+07  4.324231e+06  679586.800000  \n",
      "\n",
      "Missing values in the dataset:\n",
      "Date                0\n",
      "AveragePrice        0\n",
      "TotalVolume         0\n",
      "plu4046             0\n",
      "plu4225             0\n",
      "plu4770             0\n",
      "TotalBags           0\n",
      "SmallBags       12390\n",
      "LargeBags       12390\n",
      "XLargeBags      12390\n",
      "type                0\n",
      "region              0\n",
      "dtype: int64\n"
     ]
    }
   ],
   "source": [
    "# Print the first few rows of the dataset\n",
    "print(\"First few rows of the dataset:\")\n",
    "print(df.head())\n",
    "\n",
    "# Print the summary statistics of the dataset\n",
    "print(\"\\nSummary statistics of the dataset:\")\n",
    "print(df.describe())\n",
    "\n",
    "# Check for missing values in the dataset\n",
    "print(\"\\nMissing values in the dataset:\")\n",
    "print(df.isnull().sum())"
   ]
  },
  {
   "cell_type": "code",
   "execution_count": 4,
   "metadata": {},
   "outputs": [
    {
     "data": {
      "text/plain": [
       "(53415, 12)"
      ]
     },
     "execution_count": 4,
     "metadata": {},
     "output_type": "execute_result"
    }
   ],
   "source": [
    "df.shape"
   ]
  },
  {
   "cell_type": "code",
   "execution_count": 5,
   "metadata": {},
   "outputs": [
    {
     "name": "stdout",
     "output_type": "stream",
     "text": [
      "Name of Columns is: \n",
      " Index(['Date', 'AveragePrice', 'TotalVolume', 'plu4046', 'plu4225', 'plu4770',\n",
      "       'TotalBags', 'SmallBags', 'LargeBags', 'XLargeBags', 'type', 'region'],\n",
      "      dtype='object')\n"
     ]
    }
   ],
   "source": [
    "print(f'Name of Columns is: \\n {df.columns}')"
   ]
  },
  {
   "cell_type": "code",
   "execution_count": 6,
   "metadata": {},
   "outputs": [
    {
     "data": {
      "text/html": [
       "<div>\n",
       "<style scoped>\n",
       "    .dataframe tbody tr th:only-of-type {\n",
       "        vertical-align: middle;\n",
       "    }\n",
       "\n",
       "    .dataframe tbody tr th {\n",
       "        vertical-align: top;\n",
       "    }\n",
       "\n",
       "    .dataframe thead th {\n",
       "        text-align: right;\n",
       "    }\n",
       "</style>\n",
       "<table border=\"1\" class=\"dataframe\">\n",
       "  <thead>\n",
       "    <tr style=\"text-align: right;\">\n",
       "      <th></th>\n",
       "      <th>Date</th>\n",
       "      <th>Averageprice</th>\n",
       "      <th>Totalvolume</th>\n",
       "      <th>Plu4046</th>\n",
       "      <th>Plu4225</th>\n",
       "      <th>Plu4770</th>\n",
       "      <th>Totalbags</th>\n",
       "      <th>Smallbags</th>\n",
       "      <th>Largebags</th>\n",
       "      <th>Xlargebags</th>\n",
       "      <th>Type</th>\n",
       "      <th>Region</th>\n",
       "    </tr>\n",
       "  </thead>\n",
       "  <tbody>\n",
       "    <tr>\n",
       "      <th>0</th>\n",
       "      <td>2015-01-04</td>\n",
       "      <td>1.22</td>\n",
       "      <td>40873.28</td>\n",
       "      <td>2819.50</td>\n",
       "      <td>28287.42</td>\n",
       "      <td>49.90</td>\n",
       "      <td>9716.46</td>\n",
       "      <td>9186.93</td>\n",
       "      <td>529.53</td>\n",
       "      <td>0.0</td>\n",
       "      <td>conventional</td>\n",
       "      <td>Albany</td>\n",
       "    </tr>\n",
       "    <tr>\n",
       "      <th>1</th>\n",
       "      <td>2015-01-04</td>\n",
       "      <td>1.79</td>\n",
       "      <td>1373.95</td>\n",
       "      <td>57.42</td>\n",
       "      <td>153.88</td>\n",
       "      <td>0.00</td>\n",
       "      <td>1162.65</td>\n",
       "      <td>1162.65</td>\n",
       "      <td>0.00</td>\n",
       "      <td>0.0</td>\n",
       "      <td>organic</td>\n",
       "      <td>Albany</td>\n",
       "    </tr>\n",
       "    <tr>\n",
       "      <th>2</th>\n",
       "      <td>2015-01-04</td>\n",
       "      <td>1.00</td>\n",
       "      <td>435021.49</td>\n",
       "      <td>364302.39</td>\n",
       "      <td>23821.16</td>\n",
       "      <td>82.15</td>\n",
       "      <td>46815.79</td>\n",
       "      <td>16707.15</td>\n",
       "      <td>30108.64</td>\n",
       "      <td>0.0</td>\n",
       "      <td>conventional</td>\n",
       "      <td>Atlanta</td>\n",
       "    </tr>\n",
       "    <tr>\n",
       "      <th>3</th>\n",
       "      <td>2015-01-04</td>\n",
       "      <td>1.76</td>\n",
       "      <td>3846.69</td>\n",
       "      <td>1500.15</td>\n",
       "      <td>938.35</td>\n",
       "      <td>0.00</td>\n",
       "      <td>1408.19</td>\n",
       "      <td>1071.35</td>\n",
       "      <td>336.84</td>\n",
       "      <td>0.0</td>\n",
       "      <td>organic</td>\n",
       "      <td>Atlanta</td>\n",
       "    </tr>\n",
       "    <tr>\n",
       "      <th>4</th>\n",
       "      <td>2015-01-04</td>\n",
       "      <td>1.08</td>\n",
       "      <td>788025.06</td>\n",
       "      <td>53987.31</td>\n",
       "      <td>552906.04</td>\n",
       "      <td>39995.03</td>\n",
       "      <td>141136.68</td>\n",
       "      <td>137146.07</td>\n",
       "      <td>3990.61</td>\n",
       "      <td>0.0</td>\n",
       "      <td>conventional</td>\n",
       "      <td>BaltimoreWashington</td>\n",
       "    </tr>\n",
       "  </tbody>\n",
       "</table>\n",
       "</div>"
      ],
      "text/plain": [
       "         Date  Averageprice  Totalvolume    Plu4046    Plu4225   Plu4770  \\\n",
       "0  2015-01-04          1.22     40873.28    2819.50   28287.42     49.90   \n",
       "1  2015-01-04          1.79      1373.95      57.42     153.88      0.00   \n",
       "2  2015-01-04          1.00    435021.49  364302.39   23821.16     82.15   \n",
       "3  2015-01-04          1.76      3846.69    1500.15     938.35      0.00   \n",
       "4  2015-01-04          1.08    788025.06   53987.31  552906.04  39995.03   \n",
       "\n",
       "   Totalbags  Smallbags  Largebags  Xlargebags          Type  \\\n",
       "0    9716.46    9186.93     529.53         0.0  conventional   \n",
       "1    1162.65    1162.65       0.00         0.0       organic   \n",
       "2   46815.79   16707.15   30108.64         0.0  conventional   \n",
       "3    1408.19    1071.35     336.84         0.0       organic   \n",
       "4  141136.68  137146.07    3990.61         0.0  conventional   \n",
       "\n",
       "                Region  \n",
       "0               Albany  \n",
       "1               Albany  \n",
       "2              Atlanta  \n",
       "3              Atlanta  \n",
       "4  BaltimoreWashington  "
      ]
     },
     "execution_count": 6,
     "metadata": {},
     "output_type": "execute_result"
    }
   ],
   "source": [
    "df.columns = df.columns.str.capitalize()\n",
    "df.head()"
   ]
  },
  {
   "cell_type": "code",
   "execution_count": 7,
   "metadata": {},
   "outputs": [
    {
     "name": "stdout",
     "output_type": "stream",
     "text": [
      "Is there duplicated rows in the columns?\n",
      "False\n"
     ]
    }
   ],
   "source": [
    "# Checking duplicate row\n",
    "\n",
    "print(f'Is there duplicated rows in the columns?\\n{df.duplicated().any()}')"
   ]
  },
  {
   "cell_type": "code",
   "execution_count": 8,
   "metadata": {},
   "outputs": [
    {
     "name": "stdout",
     "output_type": "stream",
     "text": [
      "<class 'pandas.core.frame.DataFrame'>\n",
      "RangeIndex: 53415 entries, 0 to 53414\n",
      "Data columns (total 12 columns):\n",
      " #   Column        Non-Null Count  Dtype  \n",
      "---  ------        --------------  -----  \n",
      " 0   Date          53415 non-null  object \n",
      " 1   Averageprice  53415 non-null  float64\n",
      " 2   Totalvolume   53415 non-null  float64\n",
      " 3   Plu4046       53415 non-null  float64\n",
      " 4   Plu4225       53415 non-null  float64\n",
      " 5   Plu4770       53415 non-null  float64\n",
      " 6   Totalbags     53415 non-null  float64\n",
      " 7   Smallbags     41025 non-null  float64\n",
      " 8   Largebags     41025 non-null  float64\n",
      " 9   Xlargebags    41025 non-null  float64\n",
      " 10  Type          53415 non-null  object \n",
      " 11  Region        53415 non-null  object \n",
      "dtypes: float64(9), object(3)\n",
      "memory usage: 4.9+ MB\n"
     ]
    }
   ],
   "source": [
    "df.info()"
   ]
  },
  {
   "cell_type": "code",
   "execution_count": 9,
   "metadata": {},
   "outputs": [],
   "source": [
    "# Converting the Variable Date from an object format to a Date format\n",
    "df['Date'] = pd.to_datetime(df['Date'])"
   ]
  },
  {
   "cell_type": "code",
   "execution_count": 10,
   "metadata": {},
   "outputs": [
    {
     "data": {
      "text/plain": [
       "dtype('<M8[ns]')"
      ]
     },
     "execution_count": 10,
     "metadata": {},
     "output_type": "execute_result"
    }
   ],
   "source": [
    "df['Date'].dtype"
   ]
  },
  {
   "cell_type": "code",
   "execution_count": 11,
   "metadata": {},
   "outputs": [],
   "source": [
    "# Creating a New column named Year\n",
    "\n",
    "df['Year'] =df['Date'].dt.year"
   ]
  },
  {
   "cell_type": "code",
   "execution_count": 12,
   "metadata": {},
   "outputs": [
    {
     "data": {
      "text/html": [
       "<div>\n",
       "<style scoped>\n",
       "    .dataframe tbody tr th:only-of-type {\n",
       "        vertical-align: middle;\n",
       "    }\n",
       "\n",
       "    .dataframe tbody tr th {\n",
       "        vertical-align: top;\n",
       "    }\n",
       "\n",
       "    .dataframe thead th {\n",
       "        text-align: right;\n",
       "    }\n",
       "</style>\n",
       "<table border=\"1\" class=\"dataframe\">\n",
       "  <thead>\n",
       "    <tr style=\"text-align: right;\">\n",
       "      <th></th>\n",
       "      <th>Date</th>\n",
       "      <th>Averageprice</th>\n",
       "      <th>Totalvolume</th>\n",
       "      <th>Plu4046</th>\n",
       "      <th>Plu4225</th>\n",
       "      <th>Plu4770</th>\n",
       "      <th>Totalbags</th>\n",
       "      <th>Smallbags</th>\n",
       "      <th>Largebags</th>\n",
       "      <th>Xlargebags</th>\n",
       "      <th>Type</th>\n",
       "      <th>Region</th>\n",
       "      <th>Year</th>\n",
       "    </tr>\n",
       "  </thead>\n",
       "  <tbody>\n",
       "    <tr>\n",
       "      <th>0</th>\n",
       "      <td>2015-01-04</td>\n",
       "      <td>1.22</td>\n",
       "      <td>40873.28</td>\n",
       "      <td>2819.50</td>\n",
       "      <td>28287.42</td>\n",
       "      <td>49.90</td>\n",
       "      <td>9716.46</td>\n",
       "      <td>9186.93</td>\n",
       "      <td>529.53</td>\n",
       "      <td>0.0</td>\n",
       "      <td>conventional</td>\n",
       "      <td>Albany</td>\n",
       "      <td>2015</td>\n",
       "    </tr>\n",
       "    <tr>\n",
       "      <th>1</th>\n",
       "      <td>2015-01-04</td>\n",
       "      <td>1.79</td>\n",
       "      <td>1373.95</td>\n",
       "      <td>57.42</td>\n",
       "      <td>153.88</td>\n",
       "      <td>0.00</td>\n",
       "      <td>1162.65</td>\n",
       "      <td>1162.65</td>\n",
       "      <td>0.00</td>\n",
       "      <td>0.0</td>\n",
       "      <td>organic</td>\n",
       "      <td>Albany</td>\n",
       "      <td>2015</td>\n",
       "    </tr>\n",
       "    <tr>\n",
       "      <th>2</th>\n",
       "      <td>2015-01-04</td>\n",
       "      <td>1.00</td>\n",
       "      <td>435021.49</td>\n",
       "      <td>364302.39</td>\n",
       "      <td>23821.16</td>\n",
       "      <td>82.15</td>\n",
       "      <td>46815.79</td>\n",
       "      <td>16707.15</td>\n",
       "      <td>30108.64</td>\n",
       "      <td>0.0</td>\n",
       "      <td>conventional</td>\n",
       "      <td>Atlanta</td>\n",
       "      <td>2015</td>\n",
       "    </tr>\n",
       "    <tr>\n",
       "      <th>3</th>\n",
       "      <td>2015-01-04</td>\n",
       "      <td>1.76</td>\n",
       "      <td>3846.69</td>\n",
       "      <td>1500.15</td>\n",
       "      <td>938.35</td>\n",
       "      <td>0.00</td>\n",
       "      <td>1408.19</td>\n",
       "      <td>1071.35</td>\n",
       "      <td>336.84</td>\n",
       "      <td>0.0</td>\n",
       "      <td>organic</td>\n",
       "      <td>Atlanta</td>\n",
       "      <td>2015</td>\n",
       "    </tr>\n",
       "    <tr>\n",
       "      <th>4</th>\n",
       "      <td>2015-01-04</td>\n",
       "      <td>1.08</td>\n",
       "      <td>788025.06</td>\n",
       "      <td>53987.31</td>\n",
       "      <td>552906.04</td>\n",
       "      <td>39995.03</td>\n",
       "      <td>141136.68</td>\n",
       "      <td>137146.07</td>\n",
       "      <td>3990.61</td>\n",
       "      <td>0.0</td>\n",
       "      <td>conventional</td>\n",
       "      <td>BaltimoreWashington</td>\n",
       "      <td>2015</td>\n",
       "    </tr>\n",
       "  </tbody>\n",
       "</table>\n",
       "</div>"
      ],
      "text/plain": [
       "        Date  Averageprice  Totalvolume    Plu4046    Plu4225   Plu4770  \\\n",
       "0 2015-01-04          1.22     40873.28    2819.50   28287.42     49.90   \n",
       "1 2015-01-04          1.79      1373.95      57.42     153.88      0.00   \n",
       "2 2015-01-04          1.00    435021.49  364302.39   23821.16     82.15   \n",
       "3 2015-01-04          1.76      3846.69    1500.15     938.35      0.00   \n",
       "4 2015-01-04          1.08    788025.06   53987.31  552906.04  39995.03   \n",
       "\n",
       "   Totalbags  Smallbags  Largebags  Xlargebags          Type  \\\n",
       "0    9716.46    9186.93     529.53         0.0  conventional   \n",
       "1    1162.65    1162.65       0.00         0.0       organic   \n",
       "2   46815.79   16707.15   30108.64         0.0  conventional   \n",
       "3    1408.19    1071.35     336.84         0.0       organic   \n",
       "4  141136.68  137146.07    3990.61         0.0  conventional   \n",
       "\n",
       "                Region  Year  \n",
       "0               Albany  2015  \n",
       "1               Albany  2015  \n",
       "2              Atlanta  2015  \n",
       "3              Atlanta  2015  \n",
       "4  BaltimoreWashington  2015  "
      ]
     },
     "execution_count": 12,
     "metadata": {},
     "output_type": "execute_result"
    }
   ],
   "source": [
    "df.head()"
   ]
  },
  {
   "cell_type": "code",
   "execution_count": 13,
   "metadata": {},
   "outputs": [],
   "source": [
    "# Fill missing Smallbags value with the median value\n",
    "df['Smallbags'] = df['Smallbags'].fillna(df['Smallbags'].median())\n",
    "    \n",
    "# Fill missing LargeBags valueswith the mean number of largeBags\n",
    "df['Largebags'] = df['Largebags'].fillna(df['Largebags'].mean())\n",
    "    \n",
    "# Fill missing XLargeBags values with the mean value of XLargeBags\n",
    "df['Xlargebags'] = df['Xlargebags'].fillna(df['Xlargebags'].mean())"
   ]
  },
  {
   "cell_type": "code",
   "execution_count": 14,
   "metadata": {},
   "outputs": [
    {
     "name": "stdout",
     "output_type": "stream",
     "text": [
      "Number of missing data in each column is : \n",
      "Date            0\n",
      "Averageprice    0\n",
      "Totalvolume     0\n",
      "Plu4046         0\n",
      "Plu4225         0\n",
      "Plu4770         0\n",
      "Totalbags       0\n",
      "Smallbags       0\n",
      "Largebags       0\n",
      "Xlargebags      0\n",
      "Type            0\n",
      "Region          0\n",
      "Year            0\n",
      "dtype: int64\n"
     ]
    }
   ],
   "source": [
    "print(f'Number of missing data in each column is : \\n{df.isna().sum()}')"
   ]
  },
  {
   "cell_type": "code",
   "execution_count": 15,
   "metadata": {},
   "outputs": [
    {
     "data": {
      "text/html": [
       "<div>\n",
       "<style scoped>\n",
       "    .dataframe tbody tr th:only-of-type {\n",
       "        vertical-align: middle;\n",
       "    }\n",
       "\n",
       "    .dataframe tbody tr th {\n",
       "        vertical-align: top;\n",
       "    }\n",
       "\n",
       "    .dataframe thead th {\n",
       "        text-align: right;\n",
       "    }\n",
       "</style>\n",
       "<table border=\"1\" class=\"dataframe\">\n",
       "  <thead>\n",
       "    <tr style=\"text-align: right;\">\n",
       "      <th></th>\n",
       "      <th>Date</th>\n",
       "      <th>Averageprice</th>\n",
       "      <th>Totalvolume</th>\n",
       "      <th>Plu4046</th>\n",
       "      <th>Plu4225</th>\n",
       "      <th>Plu4770</th>\n",
       "      <th>Totalbags</th>\n",
       "      <th>Smallbags</th>\n",
       "      <th>Largebags</th>\n",
       "      <th>Xlargebags</th>\n",
       "      <th>Type</th>\n",
       "      <th>Region</th>\n",
       "      <th>Year</th>\n",
       "    </tr>\n",
       "  </thead>\n",
       "  <tbody>\n",
       "    <tr>\n",
       "      <th>0</th>\n",
       "      <td>2015-01-04</td>\n",
       "      <td>1.22</td>\n",
       "      <td>40873.28</td>\n",
       "      <td>2819.50</td>\n",
       "      <td>28287.42</td>\n",
       "      <td>49.90</td>\n",
       "      <td>9716.46</td>\n",
       "      <td>9186.93</td>\n",
       "      <td>529.53</td>\n",
       "      <td>0.0</td>\n",
       "      <td>conventional</td>\n",
       "      <td>Albany</td>\n",
       "      <td>2015</td>\n",
       "    </tr>\n",
       "    <tr>\n",
       "      <th>1</th>\n",
       "      <td>2015-01-04</td>\n",
       "      <td>1.79</td>\n",
       "      <td>1373.95</td>\n",
       "      <td>57.42</td>\n",
       "      <td>153.88</td>\n",
       "      <td>0.00</td>\n",
       "      <td>1162.65</td>\n",
       "      <td>1162.65</td>\n",
       "      <td>0.00</td>\n",
       "      <td>0.0</td>\n",
       "      <td>organic</td>\n",
       "      <td>Albany</td>\n",
       "      <td>2015</td>\n",
       "    </tr>\n",
       "    <tr>\n",
       "      <th>2</th>\n",
       "      <td>2015-01-04</td>\n",
       "      <td>1.00</td>\n",
       "      <td>435021.49</td>\n",
       "      <td>364302.39</td>\n",
       "      <td>23821.16</td>\n",
       "      <td>82.15</td>\n",
       "      <td>46815.79</td>\n",
       "      <td>16707.15</td>\n",
       "      <td>30108.64</td>\n",
       "      <td>0.0</td>\n",
       "      <td>conventional</td>\n",
       "      <td>Atlanta</td>\n",
       "      <td>2015</td>\n",
       "    </tr>\n",
       "    <tr>\n",
       "      <th>3</th>\n",
       "      <td>2015-01-04</td>\n",
       "      <td>1.76</td>\n",
       "      <td>3846.69</td>\n",
       "      <td>1500.15</td>\n",
       "      <td>938.35</td>\n",
       "      <td>0.00</td>\n",
       "      <td>1408.19</td>\n",
       "      <td>1071.35</td>\n",
       "      <td>336.84</td>\n",
       "      <td>0.0</td>\n",
       "      <td>organic</td>\n",
       "      <td>Atlanta</td>\n",
       "      <td>2015</td>\n",
       "    </tr>\n",
       "    <tr>\n",
       "      <th>4</th>\n",
       "      <td>2015-01-04</td>\n",
       "      <td>1.08</td>\n",
       "      <td>788025.06</td>\n",
       "      <td>53987.31</td>\n",
       "      <td>552906.04</td>\n",
       "      <td>39995.03</td>\n",
       "      <td>141136.68</td>\n",
       "      <td>137146.07</td>\n",
       "      <td>3990.61</td>\n",
       "      <td>0.0</td>\n",
       "      <td>conventional</td>\n",
       "      <td>BaltimoreWashington</td>\n",
       "      <td>2015</td>\n",
       "    </tr>\n",
       "  </tbody>\n",
       "</table>\n",
       "</div>"
      ],
      "text/plain": [
       "        Date  Averageprice  Totalvolume    Plu4046    Plu4225   Plu4770  \\\n",
       "0 2015-01-04          1.22     40873.28    2819.50   28287.42     49.90   \n",
       "1 2015-01-04          1.79      1373.95      57.42     153.88      0.00   \n",
       "2 2015-01-04          1.00    435021.49  364302.39   23821.16     82.15   \n",
       "3 2015-01-04          1.76      3846.69    1500.15     938.35      0.00   \n",
       "4 2015-01-04          1.08    788025.06   53987.31  552906.04  39995.03   \n",
       "\n",
       "   Totalbags  Smallbags  Largebags  Xlargebags          Type  \\\n",
       "0    9716.46    9186.93     529.53         0.0  conventional   \n",
       "1    1162.65    1162.65       0.00         0.0       organic   \n",
       "2   46815.79   16707.15   30108.64         0.0  conventional   \n",
       "3    1408.19    1071.35     336.84         0.0       organic   \n",
       "4  141136.68  137146.07    3990.61         0.0  conventional   \n",
       "\n",
       "                Region  Year  \n",
       "0               Albany  2015  \n",
       "1               Albany  2015  \n",
       "2              Atlanta  2015  \n",
       "3              Atlanta  2015  \n",
       "4  BaltimoreWashington  2015  "
      ]
     },
     "execution_count": 15,
     "metadata": {},
     "output_type": "execute_result"
    }
   ],
   "source": [
    "df.head()"
   ]
  },
  {
   "cell_type": "code",
   "execution_count": 16,
   "metadata": {},
   "outputs": [],
   "source": [
    "df.to_csv('Avocado_Dataset_clean.csv')"
   ]
  },
  {
   "cell_type": "code",
   "execution_count": 17,
   "metadata": {},
   "outputs": [
    {
     "data": {
      "text/html": [
       "<div>\n",
       "<style scoped>\n",
       "    .dataframe tbody tr th:only-of-type {\n",
       "        vertical-align: middle;\n",
       "    }\n",
       "\n",
       "    .dataframe tbody tr th {\n",
       "        vertical-align: top;\n",
       "    }\n",
       "\n",
       "    .dataframe thead th {\n",
       "        text-align: right;\n",
       "    }\n",
       "</style>\n",
       "<table border=\"1\" class=\"dataframe\">\n",
       "  <thead>\n",
       "    <tr style=\"text-align: right;\">\n",
       "      <th></th>\n",
       "      <th>count</th>\n",
       "      <th>mean</th>\n",
       "      <th>std</th>\n",
       "      <th>min</th>\n",
       "      <th>25%</th>\n",
       "      <th>50%</th>\n",
       "      <th>75%</th>\n",
       "      <th>max</th>\n",
       "    </tr>\n",
       "  </thead>\n",
       "  <tbody>\n",
       "    <tr>\n",
       "      <th>Averageprice</th>\n",
       "      <td>53415.0</td>\n",
       "      <td>1.429</td>\n",
       "      <td>0.393</td>\n",
       "      <td>0.44</td>\n",
       "      <td>1.119</td>\n",
       "      <td>1.40</td>\n",
       "      <td>1.690</td>\n",
       "      <td>3.441000e+00</td>\n",
       "    </tr>\n",
       "    <tr>\n",
       "      <th>Totalvolume</th>\n",
       "      <td>53415.0</td>\n",
       "      <td>869447.441</td>\n",
       "      <td>3545273.998</td>\n",
       "      <td>84.56</td>\n",
       "      <td>16264.655</td>\n",
       "      <td>120352.46</td>\n",
       "      <td>454238.015</td>\n",
       "      <td>6.103446e+07</td>\n",
       "    </tr>\n",
       "    <tr>\n",
       "      <th>Plu4046</th>\n",
       "      <td>53415.0</td>\n",
       "      <td>298270.749</td>\n",
       "      <td>1307669.329</td>\n",
       "      <td>0.00</td>\n",
       "      <td>694.725</td>\n",
       "      <td>14580.58</td>\n",
       "      <td>128792.380</td>\n",
       "      <td>2.544720e+07</td>\n",
       "    </tr>\n",
       "    <tr>\n",
       "      <th>Plu4225</th>\n",
       "      <td>53415.0</td>\n",
       "      <td>222217.038</td>\n",
       "      <td>955462.407</td>\n",
       "      <td>0.00</td>\n",
       "      <td>2120.800</td>\n",
       "      <td>17516.63</td>\n",
       "      <td>93515.600</td>\n",
       "      <td>2.047057e+07</td>\n",
       "    </tr>\n",
       "    <tr>\n",
       "      <th>Plu4770</th>\n",
       "      <td>53415.0</td>\n",
       "      <td>20531.955</td>\n",
       "      <td>104097.692</td>\n",
       "      <td>0.00</td>\n",
       "      <td>0.000</td>\n",
       "      <td>90.05</td>\n",
       "      <td>3599.735</td>\n",
       "      <td>2.860025e+06</td>\n",
       "    </tr>\n",
       "    <tr>\n",
       "      <th>Totalbags</th>\n",
       "      <td>53415.0</td>\n",
       "      <td>217508.289</td>\n",
       "      <td>867694.737</td>\n",
       "      <td>0.00</td>\n",
       "      <td>7846.520</td>\n",
       "      <td>36953.10</td>\n",
       "      <td>111014.610</td>\n",
       "      <td>1.629830e+07</td>\n",
       "    </tr>\n",
       "    <tr>\n",
       "      <th>Smallbags</th>\n",
       "      <td>53415.0</td>\n",
       "      <td>79977.776</td>\n",
       "      <td>500786.688</td>\n",
       "      <td>0.00</td>\n",
       "      <td>0.000</td>\n",
       "      <td>694.58</td>\n",
       "      <td>15791.695</td>\n",
       "      <td>1.256716e+07</td>\n",
       "    </tr>\n",
       "    <tr>\n",
       "      <th>Largebags</th>\n",
       "      <td>53415.0</td>\n",
       "      <td>23313.164</td>\n",
       "      <td>131160.694</td>\n",
       "      <td>0.00</td>\n",
       "      <td>0.000</td>\n",
       "      <td>505.47</td>\n",
       "      <td>23313.164</td>\n",
       "      <td>4.324231e+06</td>\n",
       "    </tr>\n",
       "    <tr>\n",
       "      <th>Xlargebags</th>\n",
       "      <td>53415.0</td>\n",
       "      <td>2731.812</td>\n",
       "      <td>19796.586</td>\n",
       "      <td>0.00</td>\n",
       "      <td>0.000</td>\n",
       "      <td>0.00</td>\n",
       "      <td>2731.812</td>\n",
       "      <td>6.795868e+05</td>\n",
       "    </tr>\n",
       "    <tr>\n",
       "      <th>Year</th>\n",
       "      <td>53415.0</td>\n",
       "      <td>2019.057</td>\n",
       "      <td>2.551</td>\n",
       "      <td>2015.00</td>\n",
       "      <td>2017.000</td>\n",
       "      <td>2019.00</td>\n",
       "      <td>2021.000</td>\n",
       "      <td>2.023000e+03</td>\n",
       "    </tr>\n",
       "  </tbody>\n",
       "</table>\n",
       "</div>"
      ],
      "text/plain": [
       "                count        mean          std      min        25%        50%  \\\n",
       "Averageprice  53415.0       1.429        0.393     0.44      1.119       1.40   \n",
       "Totalvolume   53415.0  869447.441  3545273.998    84.56  16264.655  120352.46   \n",
       "Plu4046       53415.0  298270.749  1307669.329     0.00    694.725   14580.58   \n",
       "Plu4225       53415.0  222217.038   955462.407     0.00   2120.800   17516.63   \n",
       "Plu4770       53415.0   20531.955   104097.692     0.00      0.000      90.05   \n",
       "Totalbags     53415.0  217508.289   867694.737     0.00   7846.520   36953.10   \n",
       "Smallbags     53415.0   79977.776   500786.688     0.00      0.000     694.58   \n",
       "Largebags     53415.0   23313.164   131160.694     0.00      0.000     505.47   \n",
       "Xlargebags    53415.0    2731.812    19796.586     0.00      0.000       0.00   \n",
       "Year          53415.0    2019.057        2.551  2015.00   2017.000    2019.00   \n",
       "\n",
       "                     75%           max  \n",
       "Averageprice       1.690  3.441000e+00  \n",
       "Totalvolume   454238.015  6.103446e+07  \n",
       "Plu4046       128792.380  2.544720e+07  \n",
       "Plu4225        93515.600  2.047057e+07  \n",
       "Plu4770         3599.735  2.860025e+06  \n",
       "Totalbags     111014.610  1.629830e+07  \n",
       "Smallbags      15791.695  1.256716e+07  \n",
       "Largebags      23313.164  4.324231e+06  \n",
       "Xlargebags      2731.812  6.795868e+05  \n",
       "Year            2021.000  2.023000e+03  "
      ]
     },
     "execution_count": 17,
     "metadata": {},
     "output_type": "execute_result"
    }
   ],
   "source": [
    "round(df.describe().T,3)"
   ]
  },
  {
   "cell_type": "code",
   "execution_count": 18,
   "metadata": {},
   "outputs": [
    {
     "data": {
      "text/html": [
       "<div>\n",
       "<style scoped>\n",
       "    .dataframe tbody tr th:only-of-type {\n",
       "        vertical-align: middle;\n",
       "    }\n",
       "\n",
       "    .dataframe tbody tr th {\n",
       "        vertical-align: top;\n",
       "    }\n",
       "\n",
       "    .dataframe thead th {\n",
       "        text-align: right;\n",
       "    }\n",
       "</style>\n",
       "<table border=\"1\" class=\"dataframe\">\n",
       "  <thead>\n",
       "    <tr style=\"text-align: right;\">\n",
       "      <th></th>\n",
       "      <th>Type</th>\n",
       "      <th>Region</th>\n",
       "    </tr>\n",
       "  </thead>\n",
       "  <tbody>\n",
       "    <tr>\n",
       "      <th>count</th>\n",
       "      <td>53415</td>\n",
       "      <td>53415</td>\n",
       "    </tr>\n",
       "    <tr>\n",
       "      <th>unique</th>\n",
       "      <td>2</td>\n",
       "      <td>60</td>\n",
       "    </tr>\n",
       "    <tr>\n",
       "      <th>top</th>\n",
       "      <td>conventional</td>\n",
       "      <td>Albany</td>\n",
       "    </tr>\n",
       "    <tr>\n",
       "      <th>freq</th>\n",
       "      <td>26709</td>\n",
       "      <td>932</td>\n",
       "    </tr>\n",
       "  </tbody>\n",
       "</table>\n",
       "</div>"
      ],
      "text/plain": [
       "                Type  Region\n",
       "count          53415   53415\n",
       "unique             2      60\n",
       "top     conventional  Albany\n",
       "freq           26709     932"
      ]
     },
     "execution_count": 18,
     "metadata": {},
     "output_type": "execute_result"
    }
   ],
   "source": [
    "\n",
    "obj_data = df.select_dtypes(include='object')\n",
    "obj_data.describe()"
   ]
  },
  {
   "cell_type": "markdown",
   "metadata": {},
   "source": [
    "---\n",
    "<a href=#five></a>\n",
    "## **Exploratory Data Analysis (EDA)**\n",
    "<a href=#cont>Back to Table of Contents</a>\n",
    "\n",
    "* **Purpose:** Explore and visualize the data to uncover patterns, trends, and relationships.\n",
    "* **Details:** Use statistics and visualizations to explore the data. This may include histograms, box plots, scatter plots, and correlation matrices. Discuss any significant findings.\n",
    "---"
   ]
  },
  {
   "cell_type": "code",
   "execution_count": 19,
   "metadata": {},
   "outputs": [
    {
     "name": "stdout",
     "output_type": "stream",
     "text": [
      "              Averageprice     Totalbags   Totalvolume\n",
      "Type                                                  \n",
      "conventional  31217.091789  1.066761e+10  4.468436e+10\n",
      "organic       45108.146988  9.505959e+08  1.757176e+09\n"
     ]
    }
   ],
   "source": [
    "title_type = df.groupby('Type')[['Averageprice','Totalbags','Totalvolume']].sum() #group and sum the data by the number of values for each ‘Year’\n",
    "print(title_type)"
   ]
  },
  {
   "cell_type": "markdown",
   "metadata": {},
   "source": [
    "## **Insights**\n",
    "\n",
    "**Averageprice:** The average price of conventional avocados is 31217.09 (currency unit unspecified, could be dollars, cents, etc.) while the average price of organic avocados is 45108.15. This suggests that organic avocados are generally more expensive.\n",
    "\n",
    "**Totalbags:** This likely represents the total number of bags of avocados sold for each type. Conventional avocados have significantly higher sales in terms of bag count (10,667,610,000 bags) compared to organic avocados (950,595,900 bags).\n",
    "\n",
    "**Totalvolume:** This probably indicates the total volume of avocados sold, possibly in units like pounds or kilograms. Similar to Totalbags, conventional avocados have a much larger volume sold compared to organic avocados."
   ]
  },
  {
   "cell_type": "code",
   "execution_count": 20,
   "metadata": {},
   "outputs": [],
   "source": [
    "Avocado_Types = title_type.Averageprice.sort_values().index #Sort the indices \n",
    "prices = title_type.Averageprice.sort_values() "
   ]
  },
  {
   "cell_type": "code",
   "execution_count": 21,
   "metadata": {},
   "outputs": [
    {
     "data": {
      "image/png": "[encoded data removed]",
      "text/plain": [
       "<Figure size 640x480 with 1 Axes>"
      ]
     },
     "metadata": {},
     "output_type": "display_data"
    }
   ],
   "source": [
    "# Plot a pie chart.\n",
    "# The `autopct` argument defines the format applied to the data labels. \n",
    "# The `startangle` argument determines which point in the pie to start plotting proportions from. \n",
    "# Full plot documentation can be found here: https://matplotlib.org/3.1.1/api/_as_gen/matplotlib.pyplot.pie.html \n",
    "plt.pie(prices, labels = Avocado_Types, autopct='%1.1f%%',  startangle=140)\n",
    "\n",
    "# Place the chart legend in a position which does not overlap with other components. \n",
    "plt.legend(loc=\"best\")\n",
    "plt.axis('equal')\n",
    "plt.show()"
   ]
  },
  {
   "cell_type": "markdown",
   "metadata": {},
   "source": [
    "## *Insights*\n",
    "\n",
    "The pie chart shows the market share of conventional and organic products. \n",
    "The chart indicates that 59.1% of the market is captured by organic products, while 40.9% is captured by conventional products."
   ]
  },
  {
   "cell_type": "code",
   "execution_count": 22,
   "metadata": {},
   "outputs": [
    {
     "name": "stdout",
     "output_type": "stream",
     "text": [
      "      Averageprice     Totalbags   Totalvolume\n",
      "Year                                          \n",
      "2015   7723.940000  7.721922e+08  4.385469e+09\n",
      "2016   7517.800000  1.463159e+09  4.820890e+09\n",
      "2017   8669.560000  1.646289e+09  4.934306e+09\n",
      "2018   8814.501742  8.701278e+08  4.939448e+09\n",
      "2019   9347.670886  9.594523e+08  4.977871e+09\n",
      "2020   8544.986049  1.391984e+09  6.019683e+09\n",
      "2021   8462.372024  1.646591e+09  5.755039e+09\n",
      "2022   9477.179838  1.527338e+09  5.291130e+09\n",
      "2023   7767.228238  1.341073e+09  5.317699e+09\n"
     ]
    }
   ],
   "source": [
    "title_Year = df.groupby('Year')[['Averageprice','Totalbags','Totalvolume']].sum() #group and sum the data by the number of values for each ‘Year’\n",
    "print(title_Year)"
   ]
  },
  {
   "cell_type": "markdown",
   "metadata": {},
   "source": [
    "## *Observations:*\n",
    "\n",
    "**Average Price:**\n",
    "\n",
    "The average price has fluctuated over the years, with a general upward trend from 2015 to 2019, followed by a slight dip in 2020, and then increasing again in 2021 and 2022.\n",
    "The highest average price was in 2022 at 9477.18, while the lowest was in 2015 at 7723.94.\n",
    "\n",
    "**Total Bags:**\n",
    "* The total number of bags has generally increased over the years, with some fluctuations.\n",
    "* The highest number of bags was in 2021 at 1.646 billion, while the lowest was in 2015 at 772 million.\n",
    "\n",
    "**Total Volume:**\n",
    "* The total volume has also generally increased over the years, with some fluctuations.\n",
    "* The highest volume was in 2020 at 6.02 billion, while the lowest was in 2015 at 4.39 billion.\n",
    "\n",
    "**Possible Insights:**\n",
    "* **Price Fluctuations:** The price fluctuations could be influenced by various factors such as supply and demand, production costs, weather conditions, and global market trends.\n",
    "* **Increased Production:** The increase in total bags and volume suggests a growing avocado market.\n",
    "* **Market Dynamics:** Analyzing the relationship between price, total bags, and total volume can provide insights into the market dynamics and consumer behavior.\n",
    "\n",
    "**Further Analysis:**\n",
    "To gain deeper insights, further analysis could be conducted, such as:\n",
    "* **Correlation Analysis:** Examining the correlation between price, total bags, and total volume.\n",
    "* **Time Series Analysis:** Forecasting future trends in price, total bags, and total volume.\n",
    "* **Market Segmentation:** Analyzing the data by different regions or markets to identify regional trends."
   ]
  },
  {
   "cell_type": "code",
   "execution_count": 23,
   "metadata": {},
   "outputs": [],
   "source": [
    "Sale_Year = title_Year.Averageprice.sort_values().index #sort the indices and store them under the variable Sale_Year\n",
    "Averprices = title_Year.Averageprice.sort_values() #sort the rest of the data and store it under the variable Averprices"
   ]
  },
  {
   "cell_type": "code",
   "execution_count": 24,
   "metadata": {},
   "outputs": [
    {
     "data": {
      "image/png": "[encoded data removed]",
      "text/plain": [
       "<Figure size 640x480 with 1 Axes>"
      ]
     },
     "metadata": {},
     "output_type": "display_data"
    }
   ],
   "source": [
    "# Plot total bill (y-axis) per day of the week (x-axis). \n",
    "# We only have to call a single line of code from matplotlib to produce the base graph. \n",
    "# We set the x-axis, y-axis, and the colour of the bars.\n",
    "plt.bar(Sale_Year, Averprices, color= 'Orange')\n",
    "\n",
    "# Set x and y-axis titles.\n",
    "plt.ylabel('Average Prices')\n",
    "plt.xlabel('\\n Year') # Note: '\\n' creates a newline (try removing it and see what happens)  \n",
    "\n",
    "# Set graph title.\n",
    "plt.title('Average Price of Avocados from 2015 to 2023\\n')\n",
    "\n",
    "# Show graph.\n",
    "plt.show()"
   ]
  },
  {
   "cell_type": "markdown",
   "metadata": {},
   "source": [
    "## **Observations:**\n",
    "\n",
    "* The average price of avocados has generally increased over the years, with some fluctuations.\n",
    "* The highest average price was in 2022, followed by 2023.\n",
    "* The lowest average price was in 2015.\n",
    "\n",
    "**Possible Insights:**\n",
    "\n",
    "* The upward trend in average prices could be attributed to various factors such as increasing demand, rising production costs, and global market trends.\n",
    "* The fluctuations in prices might be influenced by seasonal variations in supply and demand, weather conditions, and other economic factors.\n",
    "\n",
    "**Further Analysis:**\n",
    "\n",
    "To gain deeper insights, further analysis could be conducted, such as:\n",
    "\n",
    "* Comparing the avocado price trends with other relevant economic indicators (e.g., inflation, consumer spending).\n",
    "* Analyzing the price trends for different types of avocados (e.g., Hass, Fuerte) to identify any variations.\n",
    "* Examining the impact of specific events (e.g., droughts, pandemics) on avocado prices.\n",
    "\n",
    "**Note:** The chart does not provide specific numerical values for the average prices in each year. However, it visually represents the general trend and relative price differences across the years."
   ]
  },
  {
   "cell_type": "code",
   "execution_count": 129,
   "metadata": {},
   "outputs": [
    {
     "data": {
      "text/plain": [
       "<AxesSubplot:xlabel='Region'>"
      ]
     },
     "execution_count": 129,
     "metadata": {},
     "output_type": "execute_result"
    },
    {
     "data": {
      "image/png": "[encoded data removed]",
      "text/plain": [
       "<Figure size 1500x500 with 1 Axes>"
      ]
     },
     "metadata": {},
     "output_type": "display_data"
    }
   ],
   "source": [
    "df.groupby(\"Region\")[\"Averageprice\"].sum().sort_values(ascending=False).plot(kind=\"bar\",figsize=(15,5))"
   ]
  },
  {
   "cell_type": "markdown",
   "metadata": {},
   "source": [
    "## **Observations:**\n",
    "\n",
    "* The chart represents the distribution of some quantity (likely a count or frequency) across different regions.\n",
    "* The regions are numbered 0 to 46.\n",
    "* The quantity is highest in region 0 and decreases steadily as the region number increases.\n",
    "\n",
    "**Possible Insights:**\n",
    "\n",
    "* The data suggests a strong relationship between the region number and the quantity being measured.\n",
    "* This could indicate a spatial gradient or some other factor that systematically influences the quantity across the regions.\n",
    "\n",
    "**Further Analysis:**\n",
    "\n",
    "To gain deeper insights, further analysis could be conducted, such as:\n",
    "\n",
    "* Identifying the specific quantity being measured (e.g., population, crime rate, economic activity).\n",
    "* Examining the geographical distribution of the regions to understand the spatial pattern of the data.\n",
    "* Investigating the potential factors driving the observed trend (e.g., socioeconomic factors, environmental factors, policy differences).\n",
    "\n",
    "**Note:** Without more context about the data and the specific quantity being measured, it's difficult to draw definitive conclusions."
   ]
  },
  {
   "cell_type": "code",
   "execution_count": 25,
   "metadata": {},
   "outputs": [
    {
     "data": {
      "image/png": "[encoded data removed]",
      "text/plain": [
       "<Figure size 600x400 with 1 Axes>"
      ]
     },
     "metadata": {},
     "output_type": "display_data"
    }
   ],
   "source": [
    "# Visualize the distribution of AveragePrice\n",
    "plt.figure(figsize=(6, 4))\n",
    "sns.histplot(df['Averageprice'], bins=30, kde=True, color='orange')\n",
    "plt.title('Distribution of Average Price')\n",
    "plt.show()"
   ]
  },
  {
   "cell_type": "markdown",
   "metadata": {},
   "source": [
    "## **Observations:**\n",
    "\n",
    "* The histogram shows the distribution of average prices.\n",
    "* The distribution appears to be right-skewed or positively skewed, meaning there are a larger number of observations with lower average prices compared to higher average prices.\n",
    "* The peak of the distribution is around the 1.0-1.5 range, suggesting that a large proportion of the average prices fall within this range.\n",
    "\n",
    "**Possible Insights:**\n",
    "\n",
    "* The right-skewed distribution indicates that there might be a few products or categories with very high average prices, which are pulling the tail of the distribution to the right.\n",
    "* The peak of the distribution around the 1.0-1.5 range suggests that this is the typical or most common range of average prices in the dataset.\n",
    "\n",
    "**Further Analysis:**\n",
    "\n",
    "To gain deeper insights, further analysis could be conducted, such as:\n",
    "\n",
    "* Calculating summary statistics like mean, median, and standard deviation to quantify the central tendency and spread of the distribution.\n",
    "* Identifying the products or categories with the highest and lowest average prices.\n",
    "* Investigating the factors that might be contributing to the right-skewed distribution (e.g., presence of luxury items, price outliers)."
   ]
  },
  {
   "cell_type": "code",
   "execution_count": 26,
   "metadata": {},
   "outputs": [
    {
     "data": {
      "text/plain": [
       "Index(['Date', 'Averageprice', 'Totalvolume', 'Plu4046', 'Plu4225', 'Plu4770',\n",
       "       'Totalbags', 'Smallbags', 'Largebags', 'Xlargebags', 'Type', 'Region',\n",
       "       'Year'],\n",
       "      dtype='object')"
      ]
     },
     "execution_count": 26,
     "metadata": {},
     "output_type": "execute_result"
    }
   ],
   "source": [
    "df.columns"
   ]
  },
  {
   "cell_type": "code",
   "execution_count": 27,
   "metadata": {},
   "outputs": [
    {
     "data": {
      "text/plain": [
       "array(['conventional', 'organic'], dtype=object)"
      ]
     },
     "execution_count": 27,
     "metadata": {},
     "output_type": "execute_result"
    }
   ],
   "source": [
    "df.Type.unique()"
   ]
  },
  {
   "cell_type": "code",
   "execution_count": 28,
   "metadata": {},
   "outputs": [
    {
     "data": {
      "text/html": [
       "<div>\n",
       "<style scoped>\n",
       "    .dataframe tbody tr th:only-of-type {\n",
       "        vertical-align: middle;\n",
       "    }\n",
       "\n",
       "    .dataframe tbody tr th {\n",
       "        vertical-align: top;\n",
       "    }\n",
       "\n",
       "    .dataframe thead th {\n",
       "        text-align: right;\n",
       "    }\n",
       "</style>\n",
       "<table border=\"1\" class=\"dataframe\">\n",
       "  <thead>\n",
       "    <tr style=\"text-align: right;\">\n",
       "      <th></th>\n",
       "      <th>Date</th>\n",
       "      <th>Averageprice</th>\n",
       "      <th>Totalvolume</th>\n",
       "      <th>Plu4046</th>\n",
       "      <th>Plu4225</th>\n",
       "      <th>Plu4770</th>\n",
       "      <th>Totalbags</th>\n",
       "      <th>Smallbags</th>\n",
       "      <th>Largebags</th>\n",
       "      <th>Xlargebags</th>\n",
       "      <th>Region</th>\n",
       "      <th>Year</th>\n",
       "      <th>Type_organic</th>\n",
       "    </tr>\n",
       "  </thead>\n",
       "  <tbody>\n",
       "    <tr>\n",
       "      <th>0</th>\n",
       "      <td>2015-01-04</td>\n",
       "      <td>1.22</td>\n",
       "      <td>40873.28</td>\n",
       "      <td>2819.50</td>\n",
       "      <td>28287.42</td>\n",
       "      <td>49.90</td>\n",
       "      <td>9716.46</td>\n",
       "      <td>9186.93</td>\n",
       "      <td>529.53</td>\n",
       "      <td>0.0</td>\n",
       "      <td>Albany</td>\n",
       "      <td>2015</td>\n",
       "      <td>0</td>\n",
       "    </tr>\n",
       "    <tr>\n",
       "      <th>1</th>\n",
       "      <td>2015-01-04</td>\n",
       "      <td>1.79</td>\n",
       "      <td>1373.95</td>\n",
       "      <td>57.42</td>\n",
       "      <td>153.88</td>\n",
       "      <td>0.00</td>\n",
       "      <td>1162.65</td>\n",
       "      <td>1162.65</td>\n",
       "      <td>0.00</td>\n",
       "      <td>0.0</td>\n",
       "      <td>Albany</td>\n",
       "      <td>2015</td>\n",
       "      <td>1</td>\n",
       "    </tr>\n",
       "    <tr>\n",
       "      <th>2</th>\n",
       "      <td>2015-01-04</td>\n",
       "      <td>1.00</td>\n",
       "      <td>435021.49</td>\n",
       "      <td>364302.39</td>\n",
       "      <td>23821.16</td>\n",
       "      <td>82.15</td>\n",
       "      <td>46815.79</td>\n",
       "      <td>16707.15</td>\n",
       "      <td>30108.64</td>\n",
       "      <td>0.0</td>\n",
       "      <td>Atlanta</td>\n",
       "      <td>2015</td>\n",
       "      <td>0</td>\n",
       "    </tr>\n",
       "    <tr>\n",
       "      <th>3</th>\n",
       "      <td>2015-01-04</td>\n",
       "      <td>1.76</td>\n",
       "      <td>3846.69</td>\n",
       "      <td>1500.15</td>\n",
       "      <td>938.35</td>\n",
       "      <td>0.00</td>\n",
       "      <td>1408.19</td>\n",
       "      <td>1071.35</td>\n",
       "      <td>336.84</td>\n",
       "      <td>0.0</td>\n",
       "      <td>Atlanta</td>\n",
       "      <td>2015</td>\n",
       "      <td>1</td>\n",
       "    </tr>\n",
       "    <tr>\n",
       "      <th>4</th>\n",
       "      <td>2015-01-04</td>\n",
       "      <td>1.08</td>\n",
       "      <td>788025.06</td>\n",
       "      <td>53987.31</td>\n",
       "      <td>552906.04</td>\n",
       "      <td>39995.03</td>\n",
       "      <td>141136.68</td>\n",
       "      <td>137146.07</td>\n",
       "      <td>3990.61</td>\n",
       "      <td>0.0</td>\n",
       "      <td>BaltimoreWashington</td>\n",
       "      <td>2015</td>\n",
       "      <td>0</td>\n",
       "    </tr>\n",
       "  </tbody>\n",
       "</table>\n",
       "</div>"
      ],
      "text/plain": [
       "        Date  Averageprice  Totalvolume    Plu4046    Plu4225   Plu4770  \\\n",
       "0 2015-01-04          1.22     40873.28    2819.50   28287.42     49.90   \n",
       "1 2015-01-04          1.79      1373.95      57.42     153.88      0.00   \n",
       "2 2015-01-04          1.00    435021.49  364302.39   23821.16     82.15   \n",
       "3 2015-01-04          1.76      3846.69    1500.15     938.35      0.00   \n",
       "4 2015-01-04          1.08    788025.06   53987.31  552906.04  39995.03   \n",
       "\n",
       "   Totalbags  Smallbags  Largebags  Xlargebags               Region  Year  \\\n",
       "0    9716.46    9186.93     529.53         0.0               Albany  2015   \n",
       "1    1162.65    1162.65       0.00         0.0               Albany  2015   \n",
       "2   46815.79   16707.15   30108.64         0.0              Atlanta  2015   \n",
       "3    1408.19    1071.35     336.84         0.0              Atlanta  2015   \n",
       "4  141136.68  137146.07    3990.61         0.0  BaltimoreWashington  2015   \n",
       "\n",
       "   Type_organic  \n",
       "0             0  \n",
       "1             1  \n",
       "2             0  \n",
       "3             1  \n",
       "4             0  "
      ]
     },
     "execution_count": 28,
     "metadata": {},
     "output_type": "execute_result"
    }
   ],
   "source": [
    "df = pd.get_dummies(df, columns=['Type'],drop_first=True)\n",
    "df.head()"
   ]
  },
  {
   "cell_type": "code",
   "execution_count": 29,
   "metadata": {},
   "outputs": [
    {
     "data": {
      "text/plain": [
       "<AxesSubplot:>"
      ]
     },
     "execution_count": 29,
     "metadata": {},
     "output_type": "execute_result"
    },
    {
     "data": {
      "image/png": "[encoded data removed]",
      "text/plain": [
       "<Figure size 640x480 with 2 Axes>"
      ]
     },
     "metadata": {},
     "output_type": "display_data"
    }
   ],
   "source": [
    "sns.heatmap(df.corr())"
   ]
  },
  {
   "cell_type": "markdown",
   "metadata": {},
   "source": [
    "## **Insight**\n",
    "\n",
    "This type of visualization is used to represent data in a matrix format, where the values in each cell are represented by a color. In this case, the colors likely correspond to the correlation coefficients between different variables.\n",
    "\n",
    "Here's what we can infer from the heatmap:\n",
    "\n",
    "* Darker colors generally indicate stronger correlations, while lighter colors represent weaker correlations.\n",
    "* Reddish shades typically suggest a positive correlation, meaning that as one variable increases, the other tends to increase as well.\n",
    "* Blueish shades usually indicate a negative correlation, meaning that as one variable increases, the other tends to decrease.\n",
    "\n",
    "To analyze the specific relationships between variables, you'd need to provide the labels for the rows and columns. These labels would identify which variables are being compared.\n",
    "\n",
    "**Example Interpretation:**\n",
    "\n",
    "Let's assume the rows and columns represent the following variables:\n",
    "\n",
    "* Averageprice\n",
    "* Totalvolume\n",
    "* Plu4046 (possibly a product ID)\n",
    "* Plu4225 (possibly a product ID)\n",
    "* Plu4770 (possibly a product ID)\n",
    "* Totalbags\n",
    "* Smallbags\n",
    "* Largebags\n",
    "* Xlargebags\n",
    "* Year\n",
    "* Type_organic\n",
    "\n",
    "If a dark red square appears in the cell where the \"Averageprice\" row intersects the \"Totalvolume\" column, it would suggest a strong positive correlation between the average price of a product and its total volume."
   ]
  },
  {
   "cell_type": "code",
   "execution_count": 32,
   "metadata": {},
   "outputs": [],
   "source": [
    "from sklearn.preprocessing import LabelEncoder\n",
    "from sklearn.preprocessing import StandardScaler\n"
   ]
  },
  {
   "cell_type": "code",
   "execution_count": 33,
   "metadata": {},
   "outputs": [
    {
     "data": {
      "text/html": [
       "<div>\n",
       "<style scoped>\n",
       "    .dataframe tbody tr th:only-of-type {\n",
       "        vertical-align: middle;\n",
       "    }\n",
       "\n",
       "    .dataframe tbody tr th {\n",
       "        vertical-align: top;\n",
       "    }\n",
       "\n",
       "    .dataframe thead th {\n",
       "        text-align: right;\n",
       "    }\n",
       "</style>\n",
       "<table border=\"1\" class=\"dataframe\">\n",
       "  <thead>\n",
       "    <tr style=\"text-align: right;\">\n",
       "      <th></th>\n",
       "      <th>Date</th>\n",
       "      <th>Averageprice</th>\n",
       "      <th>Totalvolume</th>\n",
       "      <th>Plu4046</th>\n",
       "      <th>Plu4225</th>\n",
       "      <th>Plu4770</th>\n",
       "      <th>Totalbags</th>\n",
       "      <th>Smallbags</th>\n",
       "      <th>Largebags</th>\n",
       "      <th>Xlargebags</th>\n",
       "      <th>Region</th>\n",
       "      <th>Year</th>\n",
       "      <th>Type_organic</th>\n",
       "    </tr>\n",
       "  </thead>\n",
       "  <tbody>\n",
       "    <tr>\n",
       "      <th>0</th>\n",
       "      <td>2015-01-04</td>\n",
       "      <td>1.22</td>\n",
       "      <td>40873.28</td>\n",
       "      <td>2819.50</td>\n",
       "      <td>28287.42</td>\n",
       "      <td>49.90</td>\n",
       "      <td>9716.46</td>\n",
       "      <td>9186.93</td>\n",
       "      <td>529.53</td>\n",
       "      <td>0.0</td>\n",
       "      <td>0</td>\n",
       "      <td>2015</td>\n",
       "      <td>0</td>\n",
       "    </tr>\n",
       "    <tr>\n",
       "      <th>1</th>\n",
       "      <td>2015-01-04</td>\n",
       "      <td>1.79</td>\n",
       "      <td>1373.95</td>\n",
       "      <td>57.42</td>\n",
       "      <td>153.88</td>\n",
       "      <td>0.00</td>\n",
       "      <td>1162.65</td>\n",
       "      <td>1162.65</td>\n",
       "      <td>0.00</td>\n",
       "      <td>0.0</td>\n",
       "      <td>0</td>\n",
       "      <td>2015</td>\n",
       "      <td>1</td>\n",
       "    </tr>\n",
       "    <tr>\n",
       "      <th>2</th>\n",
       "      <td>2015-01-04</td>\n",
       "      <td>1.00</td>\n",
       "      <td>435021.49</td>\n",
       "      <td>364302.39</td>\n",
       "      <td>23821.16</td>\n",
       "      <td>82.15</td>\n",
       "      <td>46815.79</td>\n",
       "      <td>16707.15</td>\n",
       "      <td>30108.64</td>\n",
       "      <td>0.0</td>\n",
       "      <td>1</td>\n",
       "      <td>2015</td>\n",
       "      <td>0</td>\n",
       "    </tr>\n",
       "    <tr>\n",
       "      <th>3</th>\n",
       "      <td>2015-01-04</td>\n",
       "      <td>1.76</td>\n",
       "      <td>3846.69</td>\n",
       "      <td>1500.15</td>\n",
       "      <td>938.35</td>\n",
       "      <td>0.00</td>\n",
       "      <td>1408.19</td>\n",
       "      <td>1071.35</td>\n",
       "      <td>336.84</td>\n",
       "      <td>0.0</td>\n",
       "      <td>1</td>\n",
       "      <td>2015</td>\n",
       "      <td>1</td>\n",
       "    </tr>\n",
       "    <tr>\n",
       "      <th>4</th>\n",
       "      <td>2015-01-04</td>\n",
       "      <td>1.08</td>\n",
       "      <td>788025.06</td>\n",
       "      <td>53987.31</td>\n",
       "      <td>552906.04</td>\n",
       "      <td>39995.03</td>\n",
       "      <td>141136.68</td>\n",
       "      <td>137146.07</td>\n",
       "      <td>3990.61</td>\n",
       "      <td>0.0</td>\n",
       "      <td>2</td>\n",
       "      <td>2015</td>\n",
       "      <td>0</td>\n",
       "    </tr>\n",
       "  </tbody>\n",
       "</table>\n",
       "</div>"
      ],
      "text/plain": [
       "        Date  Averageprice  Totalvolume    Plu4046    Plu4225   Plu4770  \\\n",
       "0 2015-01-04          1.22     40873.28    2819.50   28287.42     49.90   \n",
       "1 2015-01-04          1.79      1373.95      57.42     153.88      0.00   \n",
       "2 2015-01-04          1.00    435021.49  364302.39   23821.16     82.15   \n",
       "3 2015-01-04          1.76      3846.69    1500.15     938.35      0.00   \n",
       "4 2015-01-04          1.08    788025.06   53987.31  552906.04  39995.03   \n",
       "\n",
       "   Totalbags  Smallbags  Largebags  Xlargebags  Region  Year  Type_organic  \n",
       "0    9716.46    9186.93     529.53         0.0       0  2015             0  \n",
       "1    1162.65    1162.65       0.00         0.0       0  2015             1  \n",
       "2   46815.79   16707.15   30108.64         0.0       1  2015             0  \n",
       "3    1408.19    1071.35     336.84         0.0       1  2015             1  \n",
       "4  141136.68  137146.07    3990.61         0.0       2  2015             0  "
      ]
     },
     "execution_count": 33,
     "metadata": {},
     "output_type": "execute_result"
    }
   ],
   "source": [
    "le = LabelEncoder()\n",
    "df['Region'] = le.fit_transform(df['Region'])\n",
    "df.head()"
   ]
  },
  {
   "cell_type": "code",
   "execution_count": 34,
   "metadata": {},
   "outputs": [
    {
     "data": {
      "text/plain": [
       "<AxesSubplot:>"
      ]
     },
     "execution_count": 34,
     "metadata": {},
     "output_type": "execute_result"
    },
    {
     "data": {
      "image/png": "[encoded data removed]",
      "text/plain": [
       "<Figure size 640x480 with 2 Axes>"
      ]
     },
     "metadata": {},
     "output_type": "display_data"
    }
   ],
   "source": [
    "sns.heatmap(df.corr())"
   ]
  },
  {
   "cell_type": "code",
   "execution_count": 35,
   "metadata": {},
   "outputs": [
    {
     "data": {
      "image/png": "[encoded data removed]",
      "text/plain": [
       "<Figure size 1400x600 with 1 Axes>"
      ]
     },
     "metadata": {},
     "output_type": "display_data"
    }
   ],
   "source": [
    "# Plot average price over time\n",
    "plt.figure(figsize=(14, 6))\n",
    "sns.lineplot(x='Date', y='Averageprice', data=df, color='grey')\n",
    "plt.title('Average Avocado Price Over Time')\n",
    "plt.show()"
   ]
  },
  {
   "cell_type": "markdown",
   "metadata": {},
   "source": [
    "## **Observations:**\n",
    "\n",
    "* The graph depicts the average avocado price over a period spanning from 2015 to 2024.\n",
    "* The price fluctuates over time, with some periods of higher prices and others with lower prices.\n",
    "* There appears to be a general upward trend in prices, particularly towards the end of the period.\n",
    "* The grey shading around the line likely represents a confidence interval or a range of possible values for the average price.\n",
    "\n",
    "**Possible Insights:**\n",
    "\n",
    "* The fluctuations in price could be attributed to various factors such as supply and demand, production costs, weather conditions, and global market trends.\n",
    "* The upward trend in prices suggests that the demand for avocados has been increasing over time.\n",
    "* The grey shading around the line indicates the uncertainty or variability in the average price.\n",
    "\n",
    "**Further Analysis:**\n",
    "\n",
    "To gain deeper insights, further analysis could be conducted, such as:\n",
    "\n",
    "* Comparing the avocado price trends with other relevant economic indicators (e.g., inflation, consumer spending).\n",
    "* Analyzing the price trends for different types of avocados (e.g., Hass, Fuerte) to identify any variations.\n",
    "* Examining the impact of specific events (e.g., droughts, pandemics) on avocado prices.\n",
    "* Decomposing the time series into trend, seasonal, and cyclical components to better understand the underlying patterns.\n",
    "\n",
    "**Note:** The graph does not provide specific numerical values for the average prices at different points in time. However, it visually represents the general trend and fluctuations in prices over the given period."
   ]
  },
  {
   "cell_type": "markdown",
   "metadata": {},
   "source": [
    "---\n",
    "<a href=#six></a>\n",
    "## **Modeling**\n",
    "<a href=#cont>Back to Table of Contents</a>\n",
    "\n",
    "* **Purpose:** Develop and train predictive or statistical models.\n",
    "* **Details:** Describe the choice of models, feature selection and engineering processes, and show how the models are trained. Include code for setting up the models and explanations of the model parameters.\n",
    "---\n"
   ]
  },
  {
   "cell_type": "code",
   "execution_count": 90,
   "metadata": {},
   "outputs": [],
   "source": [
    "import numpy as np\n",
    "import pandas as pd\n",
    "import seaborn as sns\n",
    "from matplotlib import pyplot as plt\n",
    "from statsmodels.stats.outliers_influence import variance_inflation_factor\n",
    "from sklearn.model_selection import cross_val_score\n",
    "\n",
    "from sklearn import metrics\n",
    "from collections import Counter\n",
    "from sklearn.metrics import precision_score,recall_score, f1_score, accuracy_score"
   ]
  },
  {
   "cell_type": "code",
   "execution_count": 91,
   "metadata": {},
   "outputs": [],
   "source": [
    "def Reg_Models_Evaluation_Metrics (model,X_train,y_train,X_test,y_test,y_pred):\n",
    "    cv_score = cross_val_score(estimator = model, X = X_train, y = y_train, cv = 10)\n",
    "    \n",
    "    # Calculating Adjusted R-squared\n",
    "    r2 = model.score(X_test, y_test)\n",
    "    # Number of observations is the shape along axis 0\n",
    "    n = X_test.shape[0]\n",
    "    # Number of features (predictors, p) is the shape along axis 1\n",
    "    p = X_test.shape[1]\n",
    "    # Adjusted R-squared formula\n",
    "    adjusted_r2 = 1-(1-r2)*(n-1)/(n-p-1)\n",
    "    RMSE = np.sqrt(metrics.mean_squared_error(y_test, y_pred))\n",
    "    R2 = model.score(X_test, y_test)\n",
    "    CV_R2 = cv_score.mean()\n",
    "\n",
    "    return R2, adjusted_r2, CV_R2, RMSE\n",
    "    \n",
    "    print('RMSE:', round(RMSE,4))\n",
    "    print('R2:', round(R2,4))\n",
    "    print('Adjusted R2:', round(adjusted_r2, 4) )\n",
    "    print(\"Cross Validated R2: \", round(cv_score.mean(),4) )"
   ]
  },
  {
   "cell_type": "code",
   "execution_count": 92,
   "metadata": {},
   "outputs": [],
   "source": [
    "column_names = ['CRIM', 'ZN', 'INDUS', 'CHAS', 'NOX', 'RM', 'AGE', 'DIS', 'RAD', 'TAX', 'PTRATIO', 'B', 'LSTAT', 'MEDV']\n",
    "\n",
    "try:\n",
    "    raw_df1 = pd.read_csv('../input/avocado-prices/avocado.csv')\n",
    "except:\n",
    "    raw_df1 = pd.read_csv('avocado.csv')"
   ]
  },
  {
   "cell_type": "code",
   "execution_count": 93,
   "metadata": {},
   "outputs": [],
   "source": [
    "# Deleting column\n",
    "raw_df1 = raw_df1.drop('Unnamed: 0', axis = 1)"
   ]
  },
  {
   "cell_type": "code",
   "execution_count": 94,
   "metadata": {},
   "outputs": [],
   "source": [
    "for i in raw_df1.columns:\n",
    "    if i == 'Date':\n",
    "        raw_df1[i] = raw_df1[i].astype('datetime64[ns]')\n",
    "    elif raw_df1[i].dtype == 'object':\n",
    "        raw_df1[i] = raw_df1[i].astype('category')"
   ]
  },
  {
   "cell_type": "code",
   "execution_count": 95,
   "metadata": {},
   "outputs": [],
   "source": [
    "df1 = raw_df1.copy()\n",
    "\n",
    "df1['Date'] = pd.to_datetime(df1['Date'])\n",
    "df1['month'] = df1['Date'].dt.month\n",
    "\n",
    "df1['Spring'] = df1['month'].between(3,5,inclusive='both')\n",
    "df1['Summer'] = df1['month'].between(6,8,inclusive='both')\n",
    "df1['Fall'] = df1['month'].between(9,11,inclusive='both')\n",
    "# df1['Winter'] = df1['month'].between(12,2,inclusive='both')\n",
    "\n",
    "df1.Spring = df1.Spring.replace({True: 1, False: 0})\n",
    "df1.Summer = df1.Summer.replace({True: 1, False: 0})\n",
    "df1.Fall = df1.Fall.replace({True: 1, False: 0})"
   ]
  },
  {
   "cell_type": "code",
   "execution_count": 96,
   "metadata": {},
   "outputs": [],
   "source": [
    "# Encoding labels for 'type'\n",
    "from sklearn.preprocessing import LabelEncoder\n",
    "le = LabelEncoder()\n",
    "df1['type'] = le.fit_transform(df1['type'])\n",
    "\n",
    "# Encoding 'region' (One Hot Encoding)\n",
    "from sklearn.preprocessing import OneHotEncoder\n",
    "ohe = OneHotEncoder(drop='first', handle_unknown='ignore')\n",
    "ohe = pd.get_dummies(data=df1, columns=['region'])\n",
    "\n",
    "df1 = ohe.drop(['Date','4046','4225','4770','Small Bags','Large Bags','XLarge Bags'], axis=1)"
   ]
  },
  {
   "cell_type": "code",
   "execution_count": 97,
   "metadata": {},
   "outputs": [],
   "source": [
    "def IQR_method (df,n,features):\n",
    "    \"\"\"\n",
    "    Takes a dataframe and returns an index list corresponding to the observations \n",
    "    containing more than n outliers according to the Tukey IQR method.\n",
    "    \"\"\"\n",
    "    outlier_list = []\n",
    "    \n",
    "    for column in features:\n",
    "                \n",
    "        # 1st quartile (25%)\n",
    "        Q1 = np.percentile(df[column], 25)\n",
    "        # 3rd quartile (75%)\n",
    "        Q3 = np.percentile(df[column],75)\n",
    "        \n",
    "        # Interquartile range (IQR)\n",
    "        IQR = Q3 - Q1\n",
    "        \n",
    "        # outlier step\n",
    "        outlier_step = 1.5 * IQR\n",
    "        \n",
    "        # Determining a list of indices of outliers\n",
    "        outlier_list_column = df[(df[column] < Q1 - outlier_step) | (df[column] > Q3 + outlier_step )].index\n",
    "        \n",
    "        # appending the list of outliers \n",
    "        outlier_list.extend(outlier_list_column)\n",
    "        \n",
    "    # selecting observations containing more than x outliers\n",
    "    outlier_list = Counter(outlier_list)        \n",
    "    multiple_outliers = list( k for k, v in outlier_list.items() if v > n )\n",
    "    \n",
    "    # Calculate the number of records below and above lower and above bound value respectively\n",
    "    df1 = df[df[column] < Q1 - outlier_step]\n",
    "    df2 = df[df[column] > Q3 + outlier_step]\n",
    "    \n",
    "    print('Total number of deleted outliers:', df1.shape[0]+df2.shape[0])\n",
    "    \n",
    "    return multiple_outliers"
   ]
  },
  {
   "cell_type": "code",
   "execution_count": 98,
   "metadata": {},
   "outputs": [
    {
     "name": "stdout",
     "output_type": "stream",
     "text": [
      "Total number of deleted outliers: 2533\n"
     ]
    }
   ],
   "source": [
    "numeric_columns2 = ['Total Volume', 'Total Bags']\n",
    "\n",
    "Outliers_IQR = IQR_method(df1,1,numeric_columns2)\n",
    "# dropping outliers\n",
    "df1 = df1.drop(Outliers_IQR, axis = 0).reset_index(drop=True)"
   ]
  },
  {
   "cell_type": "code",
   "execution_count": 100,
   "metadata": {},
   "outputs": [],
   "source": [
    "X = df1.drop('AveragePrice', axis=1)\n",
    "y = df1['Averagerice']"
   ]
  },
  {
   "cell_type": "code",
   "execution_count": 103,
   "metadata": {},
   "outputs": [],
   "source": [
    "from sklearn.model_selection import train_test_split\n",
    "X_train, X_test, y_train, y_test = train_test_split(X, y, test_size = 0.3, random_state = 42)"
   ]
  },
  {
   "cell_type": "code",
   "execution_count": 104,
   "metadata": {},
   "outputs": [],
   "source": [
    "\n",
    "# Creating function for scaling\n",
    "def Standard_Scaler (df, col_names):\n",
    "    features = df[col_names]\n",
    "    scaler = StandardScaler().fit(features.values)\n",
    "    features = scaler.transform(features.values)\n",
    "    df[col_names] = features\n",
    "    \n",
    "    return df"
   ]
  },
  {
   "cell_type": "code",
   "execution_count": 105,
   "metadata": {},
   "outputs": [],
   "source": [
    "col_names = ['Total Volume', 'Total Bags']\n",
    "X_train = Standard_Scaler (X_train, col_names)\n",
    "X_test = Standard_Scaler (X_test, col_names)"
   ]
  },
  {
   "cell_type": "markdown",
   "metadata": {},
   "source": [
    "## *Simple Linear Regression Model*"
   ]
  },
  {
   "cell_type": "code",
   "execution_count": 106,
   "metadata": {},
   "outputs": [],
   "source": [
    "from sklearn.linear_model import LinearRegression\n",
    "\n",
    "# Creating and training model\n",
    "lm = LinearRegression()\n",
    "lm.fit(X_train, y_train)\n",
    "\n",
    "# Model making a prediction on test data\n",
    "y_pred = lm.predict(X_test)\n",
    "y_train_pred = lm.predict(X_train)"
   ]
  },
  {
   "cell_type": "markdown",
   "metadata": {},
   "source": [
    "## *Random forest Regression Model*"
   ]
  },
  {
   "cell_type": "code",
   "execution_count": 109,
   "metadata": {},
   "outputs": [],
   "source": [
    "from sklearn.ensemble import RandomForestRegressor\n",
    "\n",
    "# Creating and training model\n",
    "RandomForest_reg = RandomForestRegressor(n_estimators = 10, random_state = 0)"
   ]
  },
  {
   "cell_type": "code",
   "execution_count": 110,
   "metadata": {},
   "outputs": [],
   "source": [
    "RandomForest_reg.fit(X_train, y_train)\n",
    "# Model making a prediction on test data\n",
    "y_pred = RandomForest_reg.predict(X_test)"
   ]
  },
  {
   "cell_type": "markdown",
   "metadata": {},
   "source": [
    "## *Ridge Regression Model*"
   ]
  },
  {
   "cell_type": "code",
   "execution_count": 112,
   "metadata": {},
   "outputs": [],
   "source": [
    "from sklearn.linear_model import Ridge\n",
    "\n",
    "# Creating and training model\n",
    "ridge_reg = Ridge(alpha=3, solver=\"cholesky\")"
   ]
  },
  {
   "cell_type": "code",
   "execution_count": 113,
   "metadata": {},
   "outputs": [],
   "source": [
    "ridge_reg.fit(X_train, y_train)\n",
    "# Model making a prediction on test data\n",
    "y_pred = ridge_reg.predict(X_test)"
   ]
  },
  {
   "cell_type": "markdown",
   "metadata": {},
   "source": [
    "## *xgboost Regression Model*"
   ]
  },
  {
   "cell_type": "code",
   "execution_count": 117,
   "metadata": {},
   "outputs": [
    {
     "name": "stdout",
     "output_type": "stream",
     "text": [
      "Defaulting to user installation because normal site-packages is not writeable\n",
      "Requirement already satisfied: xgboost in c:\\users\\w5123089\\appdata\\roaming\\python\\python39\\site-packages (2.1.3)\n",
      "Requirement already satisfied: numpy in c:\\users\\w5123089\\appdata\\roaming\\python\\python39\\site-packages (from xgboost) (1.24.4)\n",
      "Requirement already satisfied: scipy in c:\\programdata\\anaconda3\\lib\\site-packages (from xgboost) (1.9.1)\n"
     ]
    }
   ],
   "source": [
    "!pip install xgboost"
   ]
  },
  {
   "cell_type": "code",
   "execution_count": 118,
   "metadata": {},
   "outputs": [],
   "source": [
    "from xgboost import XGBRegressor\n",
    "# create an xgboost regression model\n",
    "XGBR = XGBRegressor(n_estimators=1000, max_depth=7, eta=0.1, subsample=0.8, colsample_bytree=0.8)"
   ]
  },
  {
   "cell_type": "code",
   "execution_count": 119,
   "metadata": {},
   "outputs": [],
   "source": [
    "XGBR.fit(X_train, y_train)\n",
    "# Model making a prediction on test data\n",
    "y_pred = XGBR.predict(X_test)"
   ]
  },
  {
   "cell_type": "markdown",
   "metadata": {},
   "source": [
    "---\n",
    "<a href=#seven></a>\n",
    "## **Evaluation and Validation**\n",
    "<a href=#cont>Back to Table of Contents</a>\n",
    "\n",
    "* **Purpose:** Evaluate and validate the effectiveness and accuracy of the models.\n",
    "* **Details:** Present metrics used to evaluate the models, such as accuracy, precision, recall, F1-score, etc. Discuss validation techniques employed, such as cross-validation or train/test split.\n",
    "---"
   ]
  },
  {
   "cell_type": "markdown",
   "metadata": {},
   "source": [
    "## Evaluating The Simple Linear Regression Model"
   ]
  },
  {
   "cell_type": "code",
   "execution_count": 124,
   "metadata": {},
   "outputs": [
    {
     "data": {
      "text/html": [
       "<div>\n",
       "<style scoped>\n",
       "    .dataframe tbody tr th:only-of-type {\n",
       "        vertical-align: middle;\n",
       "    }\n",
       "\n",
       "    .dataframe tbody tr th {\n",
       "        vertical-align: top;\n",
       "    }\n",
       "\n",
       "    .dataframe thead th {\n",
       "        text-align: right;\n",
       "    }\n",
       "</style>\n",
       "<table border=\"1\" class=\"dataframe\">\n",
       "  <thead>\n",
       "    <tr style=\"text-align: right;\">\n",
       "      <th></th>\n",
       "      <th>Model</th>\n",
       "      <th>R2 Score</th>\n",
       "      <th>Adjusted R2 Score</th>\n",
       "      <th>Cross Validated R2 Score</th>\n",
       "      <th>RMSE</th>\n",
       "    </tr>\n",
       "  </thead>\n",
       "  <tbody>\n",
       "    <tr>\n",
       "      <th>0</th>\n",
       "      <td>Linear Regression</td>\n",
       "      <td>0.598793</td>\n",
       "      <td>0.593598</td>\n",
       "      <td>0.604269</td>\n",
       "      <td>0.184891</td>\n",
       "    </tr>\n",
       "  </tbody>\n",
       "</table>\n",
       "</div>"
      ],
      "text/plain": [
       "               Model  R2 Score  Adjusted R2 Score  Cross Validated R2 Score  \\\n",
       "0  Linear Regression  0.598793           0.593598                  0.604269   \n",
       "\n",
       "       RMSE  \n",
       "0  0.184891  "
      ]
     },
     "execution_count": 124,
     "metadata": {},
     "output_type": "execute_result"
    }
   ],
   "source": [
    "ndf = [Reg_Models_Evaluation_Metrics(lm,X_train,y_train,X_test,y_test,y_pred)]\n",
    "\n",
    "lm_score = pd.DataFrame(data = ndf, columns=['R2 Score','Adjusted R2 Score','Cross Validated R2 Score','RMSE'])\n",
    "lm_score.insert(0, 'Model', 'Linear Regression')\n",
    "lm_score"
   ]
  },
  {
   "cell_type": "markdown",
   "metadata": {},
   "source": [
    "## Summary\n",
    "\n",
    "**Metrics:**\n",
    "\n",
    "* **R2 Score:** 0.598793\n",
    "* **Adjusted R2 Score:** 0.593598\n",
    "* **Cross Validated R2 Score:** 0.604269\n",
    "* **RMSE (Root Mean Squared Error):** 0.184891\n",
    "\n",
    "**Interpretation:**\n",
    "\n",
    "* **R2 Score:** This metric indicates that the Linear Regression model explains approximately 59.88% of the variance in the data.\n",
    "* **Adjusted R2 Score:** This score takes into account the number of predictors in the model and penalizes models with a large number of predictors. In this case, the adjusted R2 score is slightly lower than the R2 score, suggesting that some of the predictors in the model might not be significant.\n",
    "* **Cross Validated R2 Score:** This score is obtained by performing k-fold cross-validation, which involves splitting the data into k folds, training the model on k-1 folds, and evaluating it on the remaining fold. The average R2 score across all folds is reported as the cross-validated R2 score. In this case, the cross-validated R2 score is slightly higher than the R2 score, suggesting that the model might generalize well to unseen data.\n",
    "* **RMSE:** This metric measures the average difference between the predicted values and the actual values. A lower RMSE indicates better model performance. In this case, the RMSE is 0.184891, which indicates that the model's predictions are, on average, off by about 0.184891 units.\n",
    "\n",
    "**Overall:**\n",
    "\n",
    "Based on these metrics, the Linear Regression model appears to have moderate predictive power. While the R2 score and adjusted R2 score are not very high, the cross-validated R2 score suggests that the model might generalize well to new data. The RMSE provides a measure of the model's prediction error.\n",
    "\n",
    "**Further Analysis:**\n",
    "\n",
    "To improve model performance, you could consider the following:\n",
    "\n",
    "* **Feature Engineering:** Create new features or transform existing ones to potentially improve model fit.\n",
    "* **Hyperparameter Tuning:** Experiment with different hyperparameters of the Linear Regression model to optimize its performance.\n",
    "* **Model Selection:** Try other regression models, such as Ridge Regression or Lasso Regression, which can help to prevent overfitting and improve model interpretability."
   ]
  },
  {
   "cell_type": "markdown",
   "metadata": {},
   "source": [
    "## Evaluating The Random forest Regression Model"
   ]
  },
  {
   "cell_type": "code",
   "execution_count": 125,
   "metadata": {},
   "outputs": [
    {
     "data": {
      "text/html": [
       "<div>\n",
       "<style scoped>\n",
       "    .dataframe tbody tr th:only-of-type {\n",
       "        vertical-align: middle;\n",
       "    }\n",
       "\n",
       "    .dataframe tbody tr th {\n",
       "        vertical-align: top;\n",
       "    }\n",
       "\n",
       "    .dataframe thead th {\n",
       "        text-align: right;\n",
       "    }\n",
       "</style>\n",
       "<table border=\"1\" class=\"dataframe\">\n",
       "  <thead>\n",
       "    <tr style=\"text-align: right;\">\n",
       "      <th></th>\n",
       "      <th>Model</th>\n",
       "      <th>R2 Score</th>\n",
       "      <th>Adjusted R2 Score</th>\n",
       "      <th>Cross Validated R2 Score</th>\n",
       "      <th>RMSE</th>\n",
       "    </tr>\n",
       "  </thead>\n",
       "  <tbody>\n",
       "    <tr>\n",
       "      <th>0</th>\n",
       "      <td>Random Forest</td>\n",
       "      <td>0.78712</td>\n",
       "      <td>0.784363</td>\n",
       "      <td>0.876525</td>\n",
       "      <td>0.184891</td>\n",
       "    </tr>\n",
       "  </tbody>\n",
       "</table>\n",
       "</div>"
      ],
      "text/plain": [
       "           Model  R2 Score  Adjusted R2 Score  Cross Validated R2 Score  \\\n",
       "0  Random Forest   0.78712           0.784363                  0.876525   \n",
       "\n",
       "       RMSE  \n",
       "0  0.184891  "
      ]
     },
     "execution_count": 125,
     "metadata": {},
     "output_type": "execute_result"
    }
   ],
   "source": [
    "ndf = [Reg_Models_Evaluation_Metrics(RandomForest_reg,X_train,y_train,X_test,y_test,y_pred)]\n",
    "\n",
    "rf_score = pd.DataFrame(data = ndf, columns=['R2 Score','Adjusted R2 Score','Cross Validated R2 Score','RMSE'])\n",
    "rf_score.insert(0, 'Model', 'Random Forest')\n",
    "rf_score"
   ]
  },
  {
   "cell_type": "markdown",
   "metadata": {},
   "source": [
    "## **Summary**\n",
    "\n",
    "**Metrics:**\n",
    "\n",
    "**R2 Score:** 0.78712\n",
    "**Adjusted R2 Score:** 0.784363\n",
    "**Cross Validated R2 Score:** 0.876525\n",
    "**RMSE (Root Mean Squared Error):** 0.184891\n",
    "\n",
    "**Interpretation:**\n",
    "\n",
    "* **R2 Score:** This metric indicates that the Random Forest model explains approximately 78.71% of the variance in the data.\n",
    "* **Adjusted R2 Score:** This score takes into account the number of predictors in the model and penalizes models with a large number of predictors. In this case, the adjusted R2 score is slightly lower than the R2 score, suggesting that some of the predictors in the model might not be significant.\n",
    "* **Cross Validated R2 Score:** This score is obtained by performing k-fold cross-validation, which involves splitting the data into k folds, training the model on k-1 folds, and evaluating it on the remaining fold. The average R2 score across all folds is reported as the cross-validated R2 score. In this case, the cross-validated R2 score is significantly higher than the R2 score, suggesting that the model might generalize well to unseen data.\n",
    "* **RMSE:** This metric measures the average difference between the predicted values and the actual values. A lower RMSE indicates better model performance. In this case, the RMSE is 0.184891, which indicates that the model's predictions are, on average, off by about 0.184891 units.\n",
    "\n",
    "**Overall:**\n",
    "\n",
    "Based on these metrics, the Random Forest model appears to have strong predictive power. The high R2 score, adjusted R2 score, and especially the cross-validated R2 score suggest that the model can explain a significant portion of the variance in the data and generalize well to new data. The RMSE provides a measure of the model's prediction error.\n",
    "\n",
    "**Comparing with Linear Regression:**\n",
    "\n",
    "Comparing these metrics with those of the Linear Regression model in the previous image, we can observe that the Random Forest model generally performs better. The R2 score, adjusted R2 score, and cross-validated R2 score are all higher for the Random Forest model, indicating that it explains more variance in the data and generalizes better.\n",
    "\n",
    "**Further Analysis:**\n",
    "\n",
    "To further improve the model, you could consider:\n",
    "\n",
    "* **Hyperparameter Tuning:** Experiment with different hyperparameters of the Random Forest model, such as the number of trees, tree depth, and feature sampling rate, to optimize its performance.\n",
    "* **Feature Importance Analysis:** Analyze the feature importance scores to identify the most important predictors and potentially simplify the model."
   ]
  },
  {
   "cell_type": "markdown",
   "metadata": {},
   "source": [
    "## Evaluating The XGBR Regression Model"
   ]
  },
  {
   "cell_type": "code",
   "execution_count": 126,
   "metadata": {},
   "outputs": [
    {
     "data": {
      "text/html": [
       "<div>\n",
       "<style scoped>\n",
       "    .dataframe tbody tr th:only-of-type {\n",
       "        vertical-align: middle;\n",
       "    }\n",
       "\n",
       "    .dataframe tbody tr th {\n",
       "        vertical-align: top;\n",
       "    }\n",
       "\n",
       "    .dataframe thead th {\n",
       "        text-align: right;\n",
       "    }\n",
       "</style>\n",
       "<table border=\"1\" class=\"dataframe\">\n",
       "  <thead>\n",
       "    <tr style=\"text-align: right;\">\n",
       "      <th></th>\n",
       "      <th>Model</th>\n",
       "      <th>R2 Score</th>\n",
       "      <th>Adjusted R2 Score</th>\n",
       "      <th>Cross Validated R2 Score</th>\n",
       "      <th>RMSE</th>\n",
       "    </tr>\n",
       "  </thead>\n",
       "  <tbody>\n",
       "    <tr>\n",
       "      <th>0</th>\n",
       "      <td>XGBoost</td>\n",
       "      <td>0.790612</td>\n",
       "      <td>0.7879</td>\n",
       "      <td>0.913021</td>\n",
       "      <td>0.184891</td>\n",
       "    </tr>\n",
       "  </tbody>\n",
       "</table>\n",
       "</div>"
      ],
      "text/plain": [
       "     Model  R2 Score  Adjusted R2 Score  Cross Validated R2 Score      RMSE\n",
       "0  XGBoost  0.790612             0.7879                  0.913021  0.184891"
      ]
     },
     "execution_count": 126,
     "metadata": {},
     "output_type": "execute_result"
    }
   ],
   "source": [
    "ndf = [Reg_Models_Evaluation_Metrics(XGBR,X_train,y_train,X_test,y_test,y_pred)]\n",
    "\n",
    "XGBR_score = pd.DataFrame(data = ndf, columns=['R2 Score','Adjusted R2 Score','Cross Validated R2 Score','RMSE'])\n",
    "XGBR_score.insert(0, 'Model', 'XGBoost')\n",
    "XGBR_score"
   ]
  },
  {
   "cell_type": "markdown",
   "metadata": {},
   "source": [
    "## **Summary**\n",
    "\n",
    "**Metrics:**\n",
    "\n",
    "* **R2 Score:** 0.790612\n",
    "* **Adjusted R2 Score:** 0.7879\n",
    "* **Cross Validated R2 Score:** 0.913021\n",
    "* **RMSE (Root Mean Squared Error):** 0.184891\n",
    "\n",
    "**Interpretation:**\n",
    "\n",
    "* **R2 Score:** This metric indicates that the XGBoost model explains approximately 79.06% of the variance in the data.\n",
    "* **Adjusted R2 Score:** This score takes into account the number of predictors in the model and penalizes models with a large number of predictors. In this case, the adjusted R2 score is slightly lower than the R2 score, suggesting that some of the predictors in the model might not be significant.\n",
    "* **Cross Validated R2 Score:** This score is obtained by performing k-fold cross-validation, which involves splitting the data into k folds, training the model on k-1 folds, and evaluating it on the remaining fold. The average R2 score across all folds is reported as the cross-validated R2 score. In this case, the cross-validated R2 score is significantly higher than the R2 score, suggesting that the model might generalize well to unseen data.\n",
    "* **RMSE:** This metric measures the average difference between the predicted values and the actual values. A lower RMSE indicates better model performance. In this case, the RMSE is 0.184891, which indicates that the model's predictions are, on average, off by about 0.184891 units.\n",
    "\n",
    "**Overall:**\n",
    "\n",
    "Based on these metrics, the XGBoost model appears to have very strong predictive power. The high R2 score, adjusted R2 score, and especially the cross-validated R2 score suggest that the model can explain a significant portion of the variance in the data and generalize well to new data. The RMSE provides a measure of the model's prediction error.\n",
    "\n",
    "**Comparing with Other Models:**\n",
    "\n",
    "Comparing these metrics with those of the Linear Regression and Random Forest models in the previous images, we can observe that the XGBoost model generally performs the best. The R2 score, adjusted R2 score, and cross-validated R2 score are all higher for the XGBoost model, indicating that it explains more variance in the data and generalizes better.\n",
    "\n",
    "**Further Analysis:**\n",
    "\n",
    "To further improve the model, you could consider:\n",
    "\n",
    "* **Hyperparameter Tuning:** Experiment with different hyperparameters of the XGBoost model, such as the learning rate, number of trees, and tree depth, to optimize its performance.\n",
    "* **Feature Importance Analysis:** Analyze the feature importance scores to identify the most important predictors and potentially simplify the model."
   ]
  },
  {
   "cell_type": "code",
   "execution_count": 127,
   "metadata": {},
   "outputs": [
    {
     "data": {
      "text/html": [
       "<div>\n",
       "<style scoped>\n",
       "    .dataframe tbody tr th:only-of-type {\n",
       "        vertical-align: middle;\n",
       "    }\n",
       "\n",
       "    .dataframe tbody tr th {\n",
       "        vertical-align: top;\n",
       "    }\n",
       "\n",
       "    .dataframe thead th {\n",
       "        text-align: right;\n",
       "    }\n",
       "</style>\n",
       "<table border=\"1\" class=\"dataframe\">\n",
       "  <thead>\n",
       "    <tr style=\"text-align: right;\">\n",
       "      <th></th>\n",
       "      <th>Model</th>\n",
       "      <th>R2 Score</th>\n",
       "      <th>Adjusted R2 Score</th>\n",
       "      <th>Cross Validated R2 Score</th>\n",
       "      <th>RMSE</th>\n",
       "    </tr>\n",
       "  </thead>\n",
       "  <tbody>\n",
       "    <tr>\n",
       "      <th>0</th>\n",
       "      <td>Ridge Regression</td>\n",
       "      <td>0.598733</td>\n",
       "      <td>0.593537</td>\n",
       "      <td>0.604317</td>\n",
       "      <td>0.184891</td>\n",
       "    </tr>\n",
       "  </tbody>\n",
       "</table>\n",
       "</div>"
      ],
      "text/plain": [
       "              Model  R2 Score  Adjusted R2 Score  Cross Validated R2 Score  \\\n",
       "0  Ridge Regression  0.598733           0.593537                  0.604317   \n",
       "\n",
       "       RMSE  \n",
       "0  0.184891  "
      ]
     },
     "execution_count": 127,
     "metadata": {},
     "output_type": "execute_result"
    }
   ],
   "source": [
    "ndf = [Reg_Models_Evaluation_Metrics(ridge_reg,X_train,y_train,X_test,y_test,y_pred)]\n",
    "\n",
    "rr_score = pd.DataFrame(data = ndf, columns=['R2 Score','Adjusted R2 Score','Cross Validated R2 Score','RMSE'])\n",
    "rr_score.insert(0, 'Model', 'Ridge Regression')\n",
    "rr_score"
   ]
  },
  {
   "cell_type": "markdown",
   "metadata": {},
   "source": [
    "## **Summary**\n",
    "\n",
    "**Metrics:**\n",
    "\n",
    "* **R2 Score:** 0.598733\n",
    "* **Adjusted R2 Score:** 0.593537\n",
    "* **Cross Validated R2 Score:** 0.604317\n",
    "* **RMSE (Root Mean Squared Error):** 0.184891\n",
    "\n",
    "**Interpretation:**\n",
    "\n",
    "* **R2 Score:** This metric indicates that the Ridge Regression model explains approximately 59.87% of the variance in the data.\n",
    "* **Adjusted R2 Score:** This score takes into account the number of predictors in the model and penalizes models with a large number of predictors. In this case, the adjusted R2 score is slightly lower than the R2 score, suggesting that some of the predictors in the model might not be significant.\n",
    "* **Cross Validated R2 Score:** This score is obtained by performing k-fold cross-validation, which involves splitting the data into k folds, training the model on k-1 folds, and evaluating it on the remaining fold. The average R2 score across all folds is reported as the cross-validated R2 score. In this case, the cross-validated R2 score is slightly higher than the R2 score, suggesting that the model might generalize well to unseen data.\n",
    "* **RMSE:** This metric measures the average difference between the predicted values and the actual values. A lower RMSE indicates better model performance. In this case, the RMSE is 0.184891, which indicates that the model's predictions are, on average, off by about 0.184891 units.\n",
    "\n",
    "**Overall:**\n",
    "\n",
    "Based on these metrics, the Ridge Regression model appears to have moderate predictive power. While the R2 score and adjusted R2 score are not very high, the cross-validated R2 score suggests that the model might generalize well to new data. The RMSE provides a measure of the model's prediction error.\n",
    "\n",
    "**Comparing with Other Models:**\n",
    "\n",
    "Comparing these metrics with those of the Linear Regression, Random Forest, and XGBoost models in the previous images, we can observe that the Ridge Regression model generally performs similarly to the Linear Regression model. The R2 score, adjusted R2 score, and cross-validated R2 score are comparable to those of the Linear Regression model, suggesting similar predictive power.\n",
    "\n",
    "**Further Analysis:**\n",
    "\n",
    "To improve the model, you could consider:\n",
    "\n",
    "* **Hyperparameter Tuning:** Experiment with different hyperparameters of the Ridge Regression model, such as the alpha value (regularization parameter), to optimize its performance.\n",
    "* **Feature Engineering:** Create new features or transform existing ones to potentially improve model fit."
   ]
  },
  {
   "cell_type": "markdown",
   "metadata": {},
   "source": [
    "---\n",
    "<a href=#eight></a>\n",
    "## **Final Model**\n",
    "<a href=#cont>Back to Table of Contents</a>\n",
    "\n",
    "* **Purpose:** Present the final model and its performance.\n",
    "* **Details:** Highlight the best-performing model and discuss its configuration, performance, and why it was chosen over others.\n",
    "---\n"
   ]
  },
  {
   "cell_type": "code",
   "execution_count": 130,
   "metadata": {},
   "outputs": [
    {
     "data": {
      "text/html": [
       "<div>\n",
       "<style scoped>\n",
       "    .dataframe tbody tr th:only-of-type {\n",
       "        vertical-align: middle;\n",
       "    }\n",
       "\n",
       "    .dataframe tbody tr th {\n",
       "        vertical-align: top;\n",
       "    }\n",
       "\n",
       "    .dataframe thead th {\n",
       "        text-align: right;\n",
       "    }\n",
       "</style>\n",
       "<table border=\"1\" class=\"dataframe\">\n",
       "  <thead>\n",
       "    <tr style=\"text-align: right;\">\n",
       "      <th></th>\n",
       "      <th>Model</th>\n",
       "      <th>R2 Score</th>\n",
       "      <th>Adjusted R2 Score</th>\n",
       "      <th>Cross Validated R2 Score</th>\n",
       "      <th>RMSE</th>\n",
       "    </tr>\n",
       "  </thead>\n",
       "  <tbody>\n",
       "    <tr>\n",
       "      <th>0</th>\n",
       "      <td>XGBoost</td>\n",
       "      <td>0.790612</td>\n",
       "      <td>0.787900</td>\n",
       "      <td>0.913021</td>\n",
       "      <td>0.184891</td>\n",
       "    </tr>\n",
       "    <tr>\n",
       "      <th>1</th>\n",
       "      <td>Ridge Regression</td>\n",
       "      <td>0.598733</td>\n",
       "      <td>0.593537</td>\n",
       "      <td>0.604317</td>\n",
       "      <td>0.184891</td>\n",
       "    </tr>\n",
       "    <tr>\n",
       "      <th>2</th>\n",
       "      <td>Random Forest</td>\n",
       "      <td>0.787120</td>\n",
       "      <td>0.784363</td>\n",
       "      <td>0.876525</td>\n",
       "      <td>0.184891</td>\n",
       "    </tr>\n",
       "    <tr>\n",
       "      <th>3</th>\n",
       "      <td>Linear Regression</td>\n",
       "      <td>0.598793</td>\n",
       "      <td>0.593598</td>\n",
       "      <td>0.604269</td>\n",
       "      <td>0.184891</td>\n",
       "    </tr>\n",
       "  </tbody>\n",
       "</table>\n",
       "</div>"
      ],
      "text/plain": [
       "               Model  R2 Score  Adjusted R2 Score  Cross Validated R2 Score  \\\n",
       "0            XGBoost  0.790612           0.787900                  0.913021   \n",
       "1   Ridge Regression  0.598733           0.593537                  0.604317   \n",
       "2      Random Forest  0.787120           0.784363                  0.876525   \n",
       "3  Linear Regression  0.598793           0.593598                  0.604269   \n",
       "\n",
       "       RMSE  \n",
       "0  0.184891  \n",
       "1  0.184891  \n",
       "2  0.184891  \n",
       "3  0.184891  "
      ]
     },
     "execution_count": 130,
     "metadata": {},
     "output_type": "execute_result"
    }
   ],
   "source": [
    "predictions = pd.concat([XGBR_score, rr_score, rf_score, lm_score], ignore_index=True, sort=False)\n",
    "predictions"
   ]
  },
  {
   "cell_type": "markdown",
   "metadata": {},
   "source": [
    "**Key Metrics:**\n",
    "\n",
    "* **R-squared (R2) Score:** This metric measures the proportion of variance in the dependent variable that is explained by the model. Higher R2 values indicate better model fit.\n",
    "* **Adjusted R2 Score:** This metric is a modified version of R2 that accounts for the number of predictors in the model. It penalizes models with a large number of predictors to prevent overfitting.\n",
    "* **Cross-Validated R2 Score:** This metric is obtained by performing k-fold cross-validation, which involves splitting the data into k folds, training the model on k-1 folds, and evaluating it on the remaining fold. The average R2 score across all folds is reported as the cross-validated R2 score. It provides an estimate of how well the model is likely to generalize to unseen data.\n",
    "* **Root Mean Squared Error (RMSE):** This metric measures the average difference between the predicted values and the actual values. Lower RMSE values indicate better model performance.   \n",
    "\n",
    "**Model Performance:**\n",
    "\n",
    "**XGBoost:**\n",
    "* Highest R2 score (0.790612) and adjusted R2 score (0.787900) among the models.\n",
    "* Highest cross-validated R2 score (0.913021), indicating strong generalization ability.\n",
    "* RMSE of 0.184891.\n",
    "\n",
    "**Random Forest:**\n",
    "* High R2 score (0.787120) and adjusted R2 score (0.784363).\n",
    "* High cross-validated R2 score (0.876525), suggesting good generalization.\n",
    "* RMSE of 0.184891.\n",
    "\n",
    "**Ridge Regression & Linear Regression:**\n",
    "* Similar R2 scores (around 0.598) and adjusted R2 scores (around 0.593).\n",
    "* Comparable cross-validated R2 scores (around 0.604).\n",
    "* RMSE of 0.184891 for both models.\n",
    "\n",
    "\n",
    "**Overall:**\n",
    "\n",
    "Based on these metrics, XGBoost appears to be the top-performing model among the four. It consistently demonstrates high R2 scores, a strong cross-validated R2 score, and a relatively low RMSE.\n",
    "\n",
    "**Key Takeaways:**\n",
    "\n",
    "* XGBoost and Random Forest models generally outperform Ridge Regression and Linear Regression in terms of predictive accuracy.\n",
    "* Cross-validation provides a more robust estimate of model performance than the regular R2 score.\n",
    "* The adjusted R2 score helps to prevent overfitting by penalizing models with too many predictors.\n"
   ]
  },
  {
   "cell_type": "markdown",
   "metadata": {},
   "source": [
    "---\n",
    "<a href=#nine></a>\n",
    "## **Conclusion and Future Work**\n",
    "<a href=#cont>Back to Table of Contents</a>\n",
    "\n",
    "* **Purpose:** Summarize the findings and discuss future directions.\n",
    "* **Details:** Conclude with a summary of the results, insights gained, limitations of the study, and suggestions for future projects or improvements in methodology or data collection.\n",
    "---\n"
   ]
  },
  {
   "cell_type": "markdown",
   "metadata": {},
   "source": [
    "## **Summary**\n",
    "\n",
    "Based on these metrics, XGBoost appears to be the top-performing model among the four. It consistently demonstrates high R2 scores, a strong cross-validated R2 score, and a relatively low RMSE.\n",
    "\n",
    "**Further Analysis:**\n",
    "\n",
    "To further evaluate and improve model performance, this is what's need to be done:\n",
    "\n",
    "* Perform hyperparameter tuning to optimize the settings of each model.\n",
    "* Conduct feature engineering to create new features that might improve model accuracy.\n",
    "* Consider using other evaluation metrics, such as mean absolute error (MAE) or F1-score, depending on the specific application."
   ]
  },
  {
   "cell_type": "markdown",
   "metadata": {},
   "source": [
    "---\n",
    "<a href=#ten></a>\n",
    "## **References**\n",
    "<a href=#cont>Back to Table of Contents</a>\n",
    "\n",
    "* **Purpose:** Provide citations and sources of external content.\n",
    "* **Details:** List all the references and sources consulted during the project, including data sources, research papers, and documentation for tools and libraries used.\n",
    "---"
   ]
  },
  {
   "cell_type": "markdown",
   "metadata": {},
   "source": [
    "* https://www.kaggle.com/\n",
    "* gemini ai\n",
    "* Youtube"
   ]
  },
  {
   "cell_type": "markdown",
   "metadata": {},
   "source": [
    "## Additional Sections to Consider\n",
    "\n",
    "* ### Appendix: \n",
    "For any additional code, detailed tables, or extended data visualizations that are supplementary to the main content.\n",
    "\n",
    "* ### Contributors: \n",
    "If this is a group project, list the contributors and their roles or contributions to the project.\n"
   ]
  }
 ],
 "metadata": {
  "kernelspec": {
   "display_name": "Python 3 (ipykernel)",
   "language": "python",
   "name": "python3"
  },
  "language_info": {
   "codemirror_mode": {
    "name": "ipython",
    "version": 3
   },
   "file_extension": ".py",
   "mimetype": "text/x-python",
   "name": "python",
   "nbconvert_exporter": "python",
   "pygments_lexer": "ipython3",
   "version": "3.9.13"
  }
 },
 "nbformat": 4,
 "nbformat_minor": 2
}
